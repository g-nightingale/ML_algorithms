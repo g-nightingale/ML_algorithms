{
  "nbformat": 4,
  "nbformat_minor": 0,
  "metadata": {
    "colab": {
      "name": "RNN_GRU.ipynb",
      "provenance": [],
      "collapsed_sections": [],
      "authorship_tag": "ABX9TyM/nbXeLruW2sbcVRsmf9bB",
      "include_colab_link": true
    },
    "kernelspec": {
      "name": "python3",
      "display_name": "Python 3"
    }
  },
  "cells": [
    {
      "cell_type": "markdown",
      "metadata": {
        "id": "view-in-github",
        "colab_type": "text"
      },
      "source": [
        "<a href=\"https://colab.research.google.com/github/g-nightingale/ml-algorithms/blob/master/RNN_GRU.ipynb\" target=\"_parent\"><img src=\"https://colab.research.google.com/assets/colab-badge.svg\" alt=\"Open In Colab\"/></a>"
      ]
    },
    {
      "cell_type": "markdown",
      "metadata": {
        "id": "Ny-RkwO1K8vT",
        "colab_type": "text"
      },
      "source": [
        "##GRU from scratch <br>\n",
        "\n",
        "Author: Geoff Nightingale <br>\n",
        "Date: 21/05/2020 <br>"
      ]
    },
    {
      "cell_type": "code",
      "metadata": {
        "id": "iNdtNHpMLPOj",
        "colab_type": "code",
        "colab": {}
      },
      "source": [
        "import numpy as np\n",
        "import matplotlib.pyplot as plt\n",
        "\n",
        "np.random.seed(42)"
      ],
      "execution_count": 101,
      "outputs": []
    },
    {
      "cell_type": "code",
      "metadata": {
        "id": "91ROGgLgNIea",
        "colab_type": "code",
        "colab": {
          "base_uri": "https://localhost:8080/",
          "height": 281
        },
        "outputId": "b545f58d-90ac-4760-b3bd-8d42d4c961da"
      },
      "source": [
        "# Create training data\n",
        "X = np.array([x/10.0 for x in range(25)])\n",
        "Y = np.sin(X)\n",
        "# Y = X**2\n",
        "\n",
        "# Plot training data\n",
        "plt.figure()\n",
        "plt.title('X and Y')\n",
        "plt.plot(X, label='x')\n",
        "plt.plot(Y, label='y')\n",
        "plt.legend()\n",
        "plt.show()"
      ],
      "execution_count": 109,
      "outputs": [
        {
          "output_type": "display_data",
          "data": {
            "image/png": "[encoded data removed]",
            "text/plain": [
              "<Figure size 432x288 with 1 Axes>"
            ]
          },
          "metadata": {
            "tags": [],
            "needs_background": "light"
          }
        }
      ]
    },
    {
      "cell_type": "code",
      "metadata": {
        "id": "KyGvDQidT5Yo",
        "colab_type": "code",
        "colab": {}
      },
      "source": [
        "def initialize_parameters(n_h, n_x, n_y):\n",
        "    \"\"\" Initialize network parameters \"\"\"\n",
        "    np.random.seed(1)\n",
        "\n",
        "    Wr = np.random.randn(n_h, n_h)*0.01\n",
        "    Ur = np.random.randn(n_h, n_x)*0.01\n",
        "    br = np.zeros((n_h, 1))\n",
        "\n",
        "    Wz = np.random.randn(n_h, n_h)*0.01\n",
        "    Uz = np.random.randn(n_h, n_x)*0.01\n",
        "    bz = np.zeros((n_h, 1))\n",
        "\n",
        "    Wh = np.random.randn(n_h, n_h)*0.01\n",
        "    Uh = np.random.randn(n_h, n_x)*0.01\n",
        "    bh = np.zeros((n_h, 1))\n",
        "\n",
        "    Wy = np.random.randn(n_y, n_h)*0.01\n",
        "    by = np.zeros((n_y, 1))\n",
        "\n",
        "    parameters = {\"Wr\": Wr, \"Ur\": Ur, \"br\": br, \"Wz\": Wz, \"Uz\": Uz, \"bz\": bz, \\\n",
        "                  \"Wh\": Wh, \"Uh\": Uh, \"bh\": bh, \"Wy\": Wy, \"by\": by}\n",
        "    \n",
        "    return parameters\n"
      ],
      "execution_count": 3,
      "outputs": []
    },
    {
      "cell_type": "code",
      "metadata": {
        "id": "aA-zoSIDHN7Z",
        "colab_type": "code",
        "colab": {}
      },
      "source": [
        "def sigmoid(z, deriv=False):\n",
        "  \"\"\" Sigmoid activation function \"\"\"\n",
        "  sig = 1/(1 + np.exp(-z))\n",
        "  \n",
        "  if deriv is False:\n",
        "    return sig\n",
        "  else:\n",
        "    return sig * (1- sig)\n",
        "\n",
        "def tanh(z, deriv=False):\n",
        "  \"\"\" Tanh activation function \"\"\"\n",
        "  tanh = (np.exp(z) - np.exp(-z))/(np.exp(-z) + np.exp(z))\n",
        "  \n",
        "  if deriv is False:\n",
        "    return tanh\n",
        "  else:\n",
        "    return (1- tanh**2)\n"
      ],
      "execution_count": 59,
      "outputs": []
    },
    {
      "cell_type": "code",
      "metadata": {
        "id": "TIOVxrkVWGr8",
        "colab_type": "code",
        "colab": {}
      },
      "source": [
        "def rnn_step_forward(parameters, h_prev, x):\n",
        "    \"\"\" RNN single step forward \"\"\"\n",
        "    Wr, Ur, br, Wz, Uz, bz, Wh, Uh, bh, Wy, by  = parameters['Wr'], parameters['Ur'], parameters['br'], \\\n",
        "                                                  parameters['Wz'], parameters['Uz'], parameters['bz'], \\\n",
        "                                                  parameters['Wh'], parameters['Uh'], parameters['bh'], \\\n",
        "                                                  parameters['Wy'], parameters['by']\n",
        "\n",
        "    r_t = sigmoid(np.dot(Ur, x) + np.dot(Wr, h_prev) + br)\n",
        "    z_t = sigmoid(np.dot(Uz, x) + np.dot(Wz, h_prev) + bz)\n",
        "    h_hat = tanh(np.dot(Uh, x) + np.dot(Wh, (r_t * h_prev)) + bh)\n",
        "    h_next = z_t * h_hat + (1 - z_t) * h_prev\n",
        "    p_t = np.dot(Wy, h_next) + by\n",
        "    \n",
        "    return r_t, z_t, h_hat, h_next, p_t"
      ],
      "execution_count": 5,
      "outputs": []
    },
    {
      "cell_type": "code",
      "metadata": {
        "id": "JEsgWqFdtYmE",
        "colab_type": "code",
        "colab": {}
      },
      "source": [
        "def rnn_forward(X, Y, h0, parameters):\n",
        "    \"\"\" RNN forward propagation \"\"\"\n",
        "    # Initialize empty dictionaries\n",
        "    x, r, z, h_hat, h, y_hat = {}, {}, {}, {}, {}, {}\n",
        "    \n",
        "    h[-1] = np.copy(h0)\n",
        "    \n",
        "    # Initialize loss to 0\n",
        "    loss = 0\n",
        "    \n",
        "    # Forward propagation of RNN\n",
        "    for t in range(len(X)):\n",
        "        if X.ndim == 1:\n",
        "            x = X[t]\n",
        "        else:\n",
        "            x = X[t].reshape((1, X.shape[1]))\n",
        "\n",
        "        r[t], z[t], h_hat[t], h[t], y_hat[t] = rnn_step_forward(parameters, h[t-1], x)\n",
        "\n",
        "        # Update loss\n",
        "        #loss -= np.log(y_hat[t][Y[t],0])\n",
        "        loss += np.sum((y_hat[t] - Y[t])**2)\n",
        "\n",
        "    cache = (x, r, z, h_hat, h, y_hat)\n",
        "    \n",
        "    return loss, cache\n"
      ],
      "execution_count": 7,
      "outputs": []
    },
    {
      "cell_type": "code",
      "metadata": {
        "id": "FlDtR0hRigmN",
        "colab_type": "code",
        "colab": {
          "base_uri": "https://localhost:8080/",
          "height": 134
        },
        "outputId": "5e39b442-e32c-4408-b7fd-b77fa3e153aa"
      },
      "source": [
        "# Testing forward prop\n",
        "t = 0\n",
        "n_h = 3\n",
        "n_x = 1\n",
        "n_y = 1\n",
        "m = X.shape[0]\n",
        "\n",
        "parameters = initialize_parameters(n_h, n_x, n_y)\n",
        "\n",
        "h_prev = np.zeros((n_h, 1))\n",
        "\n",
        "# Run one step forward of the RNN\n",
        "if X.ndim == 1:\n",
        "    x = X[t]\n",
        "else:\n",
        "    x = X[t].reshape((1, X.shape[1]))\n",
        "\n",
        "r_t, z_t, h_hat, h_next, p_t = rnn_step_forward(parameters, h_prev, x)\n",
        "\n",
        "print('X[t]', x)\n",
        "print('X', X.shape)\n",
        "print('r_t', r_t.shape)\n",
        "print('z_t', z_t.shape)\n",
        "print('h_hat', h_hat.shape)\n",
        "print('h_next', h_next.shape)\n",
        "print('p_t', p_t.shape)\n"
      ],
      "execution_count": 8,
      "outputs": [
        {
          "output_type": "stream",
          "text": [
            "X[t] 0.0\n",
            "X (25,)\n",
            "r_t (3, 1)\n",
            "z_t (3, 1)\n",
            "h_hat (3, 1)\n",
            "h_next (3, 1)\n",
            "p_t (1, 1)\n"
          ],
          "name": "stdout"
        }
      ]
    },
    {
      "cell_type": "code",
      "metadata": {
        "id": "ssEvkG-yCgNh",
        "colab_type": "code",
        "colab": {}
      },
      "source": [
        "def print_shape(label, array):\n",
        "  print(label, array.shape)"
      ],
      "execution_count": 9,
      "outputs": []
    },
    {
      "cell_type": "code",
      "metadata": {
        "id": "XQ7qz5_uWItG",
        "colab_type": "code",
        "colab": {}
      },
      "source": [
        " def rnn_step_backward(dy, gradients, parameters, x, r, z, h_hat, h, h_prev):\n",
        "    \"\"\" RNN single step backward \"\"\"\n",
        "    if dy.ndim == 1:\n",
        "        dy_sum = np.sum(dy)\n",
        "    else:\n",
        "        dy_sum = np.sum(dy, axis=1, keepdims=True)\n",
        "\n",
        "    # Grads through y_hat\n",
        "    gradients['dWy'] += np.dot(dy, h.T)\n",
        "    gradients['dby'] += dy_sum\n",
        "    dh = np.dot(parameters['Wy'].T, dy_sum) + gradients['dh_next']\n",
        "\n",
        "    # Hidden layer derivatives\n",
        "    dz = np.multiply(dh, -h_prev)\n",
        "    dh_prev = (1 - z)\n",
        "    dh_prev_1 = np.multiply(dh, dh_prev)\n",
        "    dh_hat = np.multiply(dh, z)\n",
        "\n",
        "    # Dim check\n",
        "    # dh (2, 100)\n",
        "    # h_prev (2, 100)\n",
        "    # h_prev_1 (2, 100\n",
        "    # z (2, 100)\n",
        "\n",
        "    # Grads through h_hat\n",
        "    dh_hat_1 = np.multiply(dh_hat, tanh(h_hat, deriv=True))\n",
        "    dh_h_prev = np.multiply(np.dot(parameters['Wh'].T, dh_hat_1), r)\n",
        "    dWh = np.dot(dh_hat_1, np.multiply(r, h_prev).T)\n",
        "    dUh = np.dot(dh_hat_1, x.T)\n",
        "    dbh = np.sum(dh_hat_1, axis=1, keepdims=True)\n",
        "\n",
        "    gradients['dWh'] += dWh\n",
        "    gradients['dUh'] += dUh\n",
        "    gradients['dbh'] += dbh\n",
        "\n",
        "    # Intermedidate grad for reset gate that comes through h_hat  \n",
        "    dr = np.multiply(np.dot(parameters['Wh'].T, dh_hat_1), h_prev)\n",
        "\n",
        "    # Dim check\n",
        "    # dh_hat (2, 100)\n",
        "    # dh_hat_1 (2, 100)   \n",
        "    # h_prev (2, 100)\n",
        "    # r (2, 100)\n",
        "    # h_prev (2, 100)\n",
        "    # dWh (2, 2)\n",
        "    # dUh (2, 1)\n",
        "    # dbh (2, 1)\n",
        "    # Wh (2, 2)\n",
        "    # dr (2, 100) \n",
        "\n",
        "    # Grads through update gate\n",
        "    dz_1 = np.multiply(dz, sigmoid(z, deriv=True))\n",
        "    dz_h_prev = np.dot(parameters['Wz'].T, dz_1)\n",
        "    dWz = np.dot(dz_1, h_prev.T)\n",
        "    dUz = np.dot(dz_1, x.T)\n",
        "    dbz = np.sum(dz_1, axis=1, keepdims=True)\n",
        "\n",
        "    gradients['dWz'] += dWz\n",
        "    gradients['dUz'] += dUz\n",
        "    gradients['dbz'] += dbz\n",
        "\n",
        "    # Dim check\n",
        "    # dz (2, 100)\n",
        "    # z (2, 100)\n",
        "    # dz_1 (2, 100)\n",
        "    # dz_h_prev (2, 100)\n",
        "    # dWz (2, 2)\n",
        "    # dUz (2, 1)\n",
        "    # dbz (2, 1)\n",
        "\n",
        "    # Grads through reset gate\n",
        "    dr_1 = np.multiply(dr, sigmoid(r, deriv=True))\n",
        "    dr_h_prev = np.dot(parameters['Wr'].T, dr_1)\n",
        "    dWr = np.dot(dr_1, h_prev.T)\n",
        "    dUr = np.dot(dr_1, x.T)\n",
        "    dbr = np.sum(dr_1, axis=1, keepdims=True)\n",
        "\n",
        "    gradients['dWr'] += dWr\n",
        "    gradients['dUr'] += dUr\n",
        "    gradients['dbr'] += dbr\n",
        "\n",
        "    # Dim check\n",
        "    # dr (2, 100)\n",
        "    # r (2, 100)\n",
        "    # dr_1 (2, 100)\n",
        "    # dr_h_prev (2, 100)\n",
        "    # dWr (2, 2)\n",
        "    # dUr (2, 1)\n",
        "    # dbr (2, 1)\n",
        "\n",
        "    gradients['dh_next'] = dh_prev_1 + dh_h_prev + dz_h_prev + dr_h_prev\n",
        "\n",
        "    return gradients"
      ],
      "execution_count": 84,
      "outputs": []
    },
    {
      "cell_type": "code",
      "metadata": {
        "id": "SSpjgurUqx0S",
        "colab_type": "code",
        "colab": {}
      },
      "source": [
        "def rnn_backward(X, Y, parameters, cache):\n",
        "    \"\"\" RNN backward propagation \"\"\"\n",
        "    # Initialize gradients as an empty dictionary\n",
        "    gradients = {}\n",
        "    \n",
        "    # Retrieve from cache and parameters\n",
        "    (x, r, z, h_hat, h, y_hat) = cache\n",
        "\n",
        "    Wr, Ur, br = parameters['Wr'], parameters['Ur'], parameters['br']\n",
        "    Wz, Uz, bz = parameters['Wz'], parameters['Uz'], parameters['bz']\n",
        "    Wh, Uh, bh = parameters['Wh'], parameters['Uh'], parameters['bh']\n",
        "    Wy, by = parameters['Wy'], parameters['by']\n",
        "\n",
        "    # Create empty matrices for gradients\n",
        "    gradients['dWr'], gradients['dUr'], gradients['dbr'] = np.zeros_like(Wr), np.zeros_like(Ur), np.zeros_like(br)\n",
        "    gradients['dWz'], gradients['dUz'], gradients['dbz'] = np.zeros_like(Wz), np.zeros_like(Uz), np.zeros_like(bz)\n",
        "    gradients['dWh'], gradients['dUh'], gradients['dbh'] = np.zeros_like(Wh), np.zeros_like(Uh), np.zeros_like(bh)\n",
        "    gradients['dWy'], gradients['dby'] = np.zeros_like(Wy), np.zeros_like(by)\n",
        "    gradients['dh_next'] = np.zeros_like(h[0])\n",
        "\n",
        "    # Backpropagate through time\n",
        "    for t in reversed(range(len(X))):\n",
        "        dy = y_hat[t] - Y[t]\n",
        "        #dy[Y[t]] -= 1\n",
        "\n",
        "        if X.ndim == 1:\n",
        "            x = X[t]\n",
        "        else:\n",
        "            x = X[t].reshape((1, X.shape[1]))\n",
        "\n",
        "        gradients = rnn_step_backward(dy, gradients, parameters, x, r[t], z[t], h_hat[t], h[t], h[t-1])\n",
        "\n",
        "    return gradients,  h   \n"
      ],
      "execution_count": 85,
      "outputs": []
    },
    {
      "cell_type": "code",
      "metadata": {
        "id": "Lhqsai6Rtx31",
        "colab_type": "code",
        "colab": {
          "base_uri": "https://localhost:8080/",
          "height": 67
        },
        "outputId": "14309437-cb37-46f6-b2c2-7bbf0c77b570"
      },
      "source": [
        "# Testing back prop\n",
        "n_a = 2\n",
        "n_x = 1\n",
        "n_y = 1\n",
        "\n",
        "if X.ndim == 1:\n",
        "    m = 1\n",
        "else:\n",
        "  m = X.shape[1]\n",
        "\n",
        "print('m', m)\n",
        "\n",
        "h0 = np.zeros((n_a, m))\n",
        "\n",
        "parameters = initialize_parameters(n_a, n_x, n_y)\n",
        "loss, cache = rnn_forward(X, Y, h0, parameters)\n",
        "gradients, h = rnn_backward(X, Y, parameters, cache)\n"
      ],
      "execution_count": 86,
      "outputs": [
        {
          "output_type": "stream",
          "text": [
            "m 100\n"
          ],
          "name": "stdout"
        },
        {
          "output_type": "execute_result",
          "data": {
            "text/plain": [
              "array([[-1.46575602e-05, -7.46890665e-05],\n",
              "       [ 7.64418704e-05,  3.89524629e-04]])"
            ]
          },
          "metadata": {
            "tags": []
          },
          "execution_count": 86
        }
      ]
    },
    {
      "cell_type": "code",
      "metadata": {
        "id": "FabzBrXrWLH_",
        "colab_type": "code",
        "colab": {}
      },
      "source": [
        "def update_parameters(parameters, gradients, lr, print_grad_updates=False):\n",
        "    \"\"\" Update RNN parameters \"\"\"\n",
        "    # print(parameters['Ur'].shape)\n",
        "    # print(gradients['dUr'].shape)\n",
        "\n",
        "    parameters['Wr'] += -lr * gradients['dWr']\n",
        "    parameters['Ur'] += -lr * gradients['dUr']\n",
        "    parameters['br'] += -lr * gradients['dbr']\n",
        "    parameters['Wz'] += -lr * gradients['dWz']\n",
        "    parameters['Uz'] += -lr * gradients['dUz']\n",
        "    parameters['bz'] += -lr * gradients['dbz']\n",
        "    parameters['Wh'] += -lr * gradients['dWh']\n",
        "    parameters['Uh'] += -lr * gradients['dUh']\n",
        "    parameters['bh'] += -lr * gradients['dbh']\n",
        "    parameters['Wy'] += -lr * gradients['dWy']\n",
        "    parameters['by'] += -lr * gradients['dby']\n",
        "\n",
        "    if print_grad_updates is True:\n",
        "      print(parameters)\n",
        "\n",
        "    return parameters"
      ],
      "execution_count": 87,
      "outputs": []
    },
    {
      "cell_type": "code",
      "metadata": {
        "id": "C8XNPhwbWNNp",
        "colab_type": "code",
        "colab": {}
      },
      "source": [
        "def clip(gradients, maxValue):\n",
        "    \"\"\" Clip gradients \"\"\"\n",
        "\n",
        "    # TODO: should dh_next get clipped?\n",
        "    \n",
        "    dWr, dUr, dbr = gradients['dWr'], gradients['dUr'], gradients['dbr']\n",
        "    dWz, dUz, dbz = gradients['dWz'], gradients['dUz'], gradients['dbz']\n",
        "    dWh, dUh, dbh = gradients['dWh'], gradients['dUh'], gradients['dbh']\n",
        "    dWy, dby = gradients['dWy'], gradients['dby']\n",
        "\n",
        "    # Clip to mitigate exploding gradients\n",
        "    for gradient in [dWr, dUr, dbr, dWz, dUz, dbz, dWh, dUh, dbh, dWy, dby]:\n",
        "        np.clip(gradient, -maxValue, maxValue, out = gradient)\n",
        "\n",
        "    gradients = {\"dWr\": dWr, \"dUr\": dUr, \"dbr\": dbr, \n",
        "                 \"dWz\": dWz, \"dUz\": dUz, \"dbz\": dbz, \n",
        "                 \"dWh\": dWh, \"dUh\": dUh, \"dbh\": dbh, \n",
        "                 \"dWy\": dWy, \"dby\": dby}\n",
        "    \n",
        "    return gradients"
      ],
      "execution_count": 88,
      "outputs": []
    },
    {
      "cell_type": "code",
      "metadata": {
        "id": "hiMF69mliGqV",
        "colab_type": "code",
        "colab": {}
      },
      "source": [
        "def optimize(X, Y, h_prev, parameters, learning_rate=0.01, grad_max=100, print_grad_updates=False):\n",
        "    \"\"\" Run single iteration of gradient descent \"\"\"\n",
        "\n",
        "    # Forward propagate through time\n",
        "    loss, cache = rnn_forward(X, Y, h_prev, parameters)\n",
        "    \n",
        "    # Backpropagate through time\n",
        "    gradients, a = rnn_backward(X, Y, parameters, cache)\n",
        "\n",
        "    # Clip gradients between -grad_max (min) and grad_max (max)\n",
        "    gradients = clip(gradients, grad_max)\n",
        "    \n",
        "    # Update parameters\n",
        "    parameters = update_parameters(parameters, gradients, learning_rate, print_grad_updates=print_grad_updates)\n",
        "  \n",
        "    return loss, gradients, a[len(X)-1]"
      ],
      "execution_count": 97,
      "outputs": []
    },
    {
      "cell_type": "code",
      "metadata": {
        "id": "Phxj4iNEWStm",
        "colab_type": "code",
        "colab": {}
      },
      "source": [
        "def model(X, Y, num_iterations=10, n_h=1, learning_rate=0.01, print_chart=False, grad_max=100, print_grad_updates=False, update_n=1000):\n",
        "    \"\"\" Train RNN model \"\"\"\n",
        "    \n",
        "    # Retrieve dimensions\n",
        "    if X.ndim == 1:\n",
        "        m = 1\n",
        "    else:\n",
        "      m = X.shape[1]\n",
        "\n",
        "    n_x = 1\n",
        "    n_y = 1\n",
        "\n",
        "    # Initialize parameters\n",
        "    parameters = initialize_parameters(n_h, n_x, n_y)\n",
        "    \n",
        "    # Initialize the RNN hidden state \n",
        "    h_prev = np.zeros((n_h, m))\n",
        "\n",
        "    # Optimization loop\n",
        "    for j in range(num_iterations):\n",
        "        \n",
        "        # Perform one optimization step: Forward-prop -> Backward-prop -> Clip -> Update parameters\n",
        "        loss, gradients, a_prev = optimize(X, Y, h_prev, parameters, learning_rate=learning_rate, grad_max=grad_max, print_grad_updates=print_grad_updates)     \n",
        "\n",
        "        # Print loss updates\n",
        "        if j % update_n == 0:\n",
        "            print('Iteration: %d, Loss: %f' % (j, loss))\n",
        "\n",
        "    # Print chart of actual vs expected\n",
        "    if print_chart is True:\n",
        "        print()\n",
        "        if X.ndim == 1:\n",
        "          loss, cache = rnn_forward(X, Y, a_prev, parameters)\n",
        "        else:\n",
        "          loss, cache = rnn_forward(X[:, 0], Y[:, 0], a_prev, parameters)\n",
        "\n",
        "        preds = []\n",
        "        for l in range(len(cache[-1])):\n",
        "          preds.append(cache[-1][l][0][0])\n",
        "\n",
        "        plt.title('Actual vs Expected')\n",
        "        if X.ndim == 1:\n",
        "          plt.plot(Y, label='y actual')\n",
        "        else:\n",
        "          plt.plot(Y[:, 0], label='y actual')\n",
        "\n",
        "        plt.plot(preds, label='y pred')\n",
        "        plt.legend()\n",
        "        plt.show()\n",
        "\n",
        "    print('parameters', '\\n', parameters, '\\n')\n",
        "    print('final gradients', '\\n', gradients, '\\n')\n",
        "     \n",
        "    return parameters\n"
      ],
      "execution_count": 99,
      "outputs": []
    },
    {
      "cell_type": "markdown",
      "metadata": {
        "id": "_IMP2woUH48K",
        "colab_type": "text"
      },
      "source": [
        "#### Run models"
      ]
    },
    {
      "cell_type": "code",
      "metadata": {
        "id": "NeqU1zQ-geNY",
        "colab_type": "code",
        "colab": {
          "base_uri": "https://localhost:8080/",
          "height": 586
        },
        "outputId": "c304fb42-4855-4544-bad6-cf50efd89522"
      },
      "source": [
        "parameters = model(X, Y, num_iterations=10000, n_h=1, learning_rate=0.01, print_chart=True, print_grad_updates=False)"
      ],
      "execution_count": 110,
      "outputs": [
        {
          "output_type": "stream",
          "text": [
            "Iteration: 0, Loss: 14.729153\n",
            "Iteration: 1000, Loss: 0.285998\n",
            "Iteration: 2000, Loss: 2.036483\n",
            "Iteration: 3000, Loss: 2.162323\n",
            "Iteration: 4000, Loss: 2.172536\n",
            "Iteration: 5000, Loss: 2.176083\n",
            "Iteration: 6000, Loss: 2.177847\n",
            "Iteration: 7000, Loss: 2.178891\n",
            "Iteration: 8000, Loss: 2.179577\n",
            "Iteration: 9000, Loss: 2.180059\n",
            "\n"
          ],
          "name": "stdout"
        },
        {
          "output_type": "display_data",
          "data": {
            "image/png": "[encoded data removed]",
            "text/plain": [
              "<Figure size 432x288 with 1 Axes>"
            ]
          },
          "metadata": {
            "tags": [],
            "needs_background": "light"
          }
        },
        {
          "output_type": "stream",
          "text": [
            "parameters \n",
            " {'Wr': array([[-0.02672884]]), 'Ur': array([[-0.35223855]]), 'br': array([[0.15451251]]), 'Wz': array([[1.42969779]]), 'Uz': array([[-4.22660954]]), 'bz': array([[-8.91489746]]), 'Wh': array([[0.90955671]]), 'Uh': array([[0.51598491]]), 'bh': array([[-2.61412276]]), 'Wy': array([[-2.85549194]]), 'by': array([[0.70687234]])} \n",
            "\n",
            "final gradients \n",
            " {'dWr': array([[8.45058324e-12]]), 'dUr': array([[-1.29565517e-08]]), 'dbr': array([[-2.83354086e-08]]), 'dWz': array([[-3.71790418e-06]]), 'dUz': array([[0.01039855]]), 'dbz': array([[0.0102368]]), 'dWh': array([[-6.60681406e-08]]), 'dUh': array([[0.00018875]]), 'dbh': array([[0.00048291]]), 'dWy': array([[0.00038436]]), 'dby': array([[-1.19901452e-05]])} \n",
            "\n"
          ],
          "name": "stdout"
        }
      ]
    },
    {
      "cell_type": "code",
      "metadata": {
        "id": "o1qwAZpJ1aUM",
        "colab_type": "code",
        "colab": {
          "base_uri": "https://localhost:8080/",
          "height": 869
        },
        "outputId": "8bab06a2-6f81-4c16-bbd4-952a65b5200e"
      },
      "source": [
        "parameters = model(X, Y, num_iterations=10000, n_h=2, learning_rate=0.01, print_chart=True, print_grad_updates=False)"
      ],
      "execution_count": 113,
      "outputs": [
        {
          "output_type": "stream",
          "text": [
            "Iteration: 0, Loss: 14.712655\n",
            "Iteration: 1000, Loss: 0.321262\n",
            "Iteration: 2000, Loss: 0.019703\n",
            "Iteration: 3000, Loss: 0.003463\n",
            "Iteration: 4000, Loss: 0.002176\n",
            "Iteration: 5000, Loss: 0.001749\n",
            "Iteration: 6000, Loss: 0.001381\n",
            "Iteration: 7000, Loss: 0.001085\n",
            "Iteration: 8000, Loss: 0.000853\n",
            "Iteration: 9000, Loss: 0.000674\n",
            "\n"
          ],
          "name": "stdout"
        },
        {
          "output_type": "display_data",
          "data": {
            "image/png": "[encoded data removed]",
            "text/plain": [
              "<Figure size 432x288 with 1 Axes>"
            ]
          },
          "metadata": {
            "tags": [],
            "needs_background": "light"
          }
        },
        {
          "output_type": "stream",
          "text": [
            "parameters \n",
            " {'Wr': array([[ 0.04334979, -0.02820792],\n",
            "       [-0.04002292, -0.07251002]]), 'Ur': array([[-0.41800842],\n",
            "       [-0.3174264 ]]), 'br': array([[0.0990315 ],\n",
            "       [0.16707073]]), 'Wz': array([[0.9310744 , 0.48026623],\n",
            "       [1.72728276, 1.20531528]]), 'Uz': array([[1.59735809],\n",
            "       [0.66717308]]), 'bz': array([[-2.55389023],\n",
            "       [-3.4364967 ]]), 'Wh': array([[0.57621273, 0.50842295],\n",
            "       [0.54964465, 0.78084188]]), 'Uh': array([[0.42433561],\n",
            "       [1.08727249]]), 'bh': array([[-1.93741487],\n",
            "       [-1.31337597]]), 'Wy': array([[-1.01293512, -1.75925962]]), 'by': array([[-0.13231923]])} \n",
            "\n",
            "final gradients \n",
            " {'dWr': array([[-1.67236344e-04, -5.41893990e-05],\n",
            "       [-4.76148195e-05, -5.62386628e-06]]), 'dUr': array([[0.00010768],\n",
            "       [0.00010366]]), 'dbr': array([[7.31148237e-05],\n",
            "       [3.45693088e-05]]), 'dWz': array([[ 9.38400631e-04, -3.62358139e-05],\n",
            "       [-1.30988765e-04, -9.00608561e-05]]), 'dUz': array([[-2.59651540e-03],\n",
            "       [-3.42560147e-05]]), 'dbz': array([[0.00099849],\n",
            "       [0.00043331]]), 'dWh': array([[ 2.34411217e-04,  9.52773593e-05],\n",
            "       [-7.61787314e-05, -4.49679582e-06]]), 'dUh': array([[-2.15027860e-05],\n",
            "       [ 6.71008047e-04]]), 'dbh': array([[-0.00031618],\n",
            "       [-0.0002447 ]]), 'dWy': array([[-0.0004645 , -0.00086859]]), 'dby': array([[-0.00030032]])} \n",
            "\n"
          ],
          "name": "stdout"
        }
      ]
    },
    {
      "cell_type": "code",
      "metadata": {
        "id": "rhaBStxWhHOW",
        "colab_type": "code",
        "colab": {
          "base_uri": "https://localhost:8080/",
          "height": 1000
        },
        "outputId": "a1cce4fe-eb70-4ce7-fcee-ed4cbfdd01fc"
      },
      "source": [
        "parameters = model(X, Y, num_iterations=10000, n_h=3, learning_rate=0.01, print_chart=True, print_grad_updates=False)"
      ],
      "execution_count": 114,
      "outputs": [
        {
          "output_type": "stream",
          "text": [
            "Iteration: 0, Loss: 14.706586\n",
            "Iteration: 1000, Loss: 0.323967\n",
            "Iteration: 2000, Loss: 0.017639\n",
            "Iteration: 3000, Loss: 0.009862\n",
            "Iteration: 4000, Loss: 0.009506\n",
            "Iteration: 5000, Loss: 0.004105\n",
            "Iteration: 6000, Loss: 0.001150\n",
            "Iteration: 7000, Loss: 0.000433\n",
            "Iteration: 8000, Loss: 0.000293\n",
            "Iteration: 9000, Loss: 0.000262\n",
            "\n"
          ],
          "name": "stdout"
        },
        {
          "output_type": "display_data",
          "data": {
            "image/png": "[encoded data removed]",
            "text/plain": [
              "<Figure size 432x288 with 1 Axes>"
            ]
          },
          "metadata": {
            "tags": [],
            "needs_background": "light"
          }
        },
        {
          "output_type": "stream",
          "text": [
            "parameters \n",
            " {'Wr': array([[-0.04455425,  0.03830491,  0.03572332],\n",
            "       [-0.01344893,  0.01144499, -0.02090945],\n",
            "       [-0.01276039,  0.02074903,  0.04416417]]), 'Ur': array([[-0.33957135],\n",
            "       [ 0.01197119],\n",
            "       [-0.31347298]]), 'br': array([[0.14498508],\n",
            "       [0.0049205 ],\n",
            "       [0.13966032]]), 'Wz': array([[ 0.84846979, -0.35850643, -0.8805492 ],\n",
            "       [ 0.03275424, -0.03610414, -0.07958762],\n",
            "       [ 0.50398408, -0.31853817, -0.58024351]]), 'Uz': array([[ 1.19574476],\n",
            "       [-0.08662429],\n",
            "       [ 1.16137305]]), 'bz': array([[-1.83560004],\n",
            "       [-0.15567906],\n",
            "       [-1.30660177]]), 'Wh': array([[ 0.63932648, -0.01458564, -0.61458125],\n",
            "       [-0.09796608,  0.1411004 ,  0.10768247],\n",
            "       [-0.60559344,  0.03016717,  0.59100231]]), 'Uh': array([[ 0.42534439],\n",
            "       [-0.55260605],\n",
            "       [-0.00913652]]), 'bh': array([[-0.8073176 ],\n",
            "       [ 0.33469374],\n",
            "       [ 0.89707735]]), 'Wy': array([[-0.91327672, -0.46742992,  0.54161011]]), 'by': array([[-0.09995093]])} \n",
            "\n",
            "final gradients \n",
            " {'dWr': array([[ 1.78762273e-05,  2.01393595e-04, -1.39016110e-04],\n",
            "       [-7.39295113e-06, -1.13069675e-05,  7.19990001e-06],\n",
            "       [ 1.31784550e-04,  6.62544008e-05, -3.45190042e-05]]), 'dUr': array([[-5.54768144e-04],\n",
            "       [ 2.01865612e-05],\n",
            "       [-7.15507060e-05]]), 'dbr': array([[-1.60487482e-04],\n",
            "       [-3.91429798e-06],\n",
            "       [-3.44862477e-06]]), 'dWz': array([[ 5.47704083e-04, -2.17226639e-04, -4.46273677e-04],\n",
            "       [ 2.05517105e-05,  2.56478483e-04, -1.63957637e-04],\n",
            "       [ 2.83747310e-04, -5.98834921e-05, -3.95462590e-04]]), 'dUz': array([[ 5.64848371e-07],\n",
            "       [-5.93914704e-04],\n",
            "       [-3.71954865e-04]]), 'dbz': array([[-6.79157459e-04],\n",
            "       [ 1.15593774e-05],\n",
            "       [-6.42278019e-04]]), 'dWh': array([[-2.92968409e-04, -1.68181274e-04,  1.22908963e-04],\n",
            "       [-1.79564563e-04, -9.87439680e-05,  2.16375987e-04],\n",
            "       [-2.25552642e-05,  1.06116035e-04,  1.25159125e-04]]), 'dUh': array([[0.00021918],\n",
            "       [0.00023796],\n",
            "       [0.00022073]]), 'dbh': array([[-2.95015674e-04],\n",
            "       [-3.66100832e-05],\n",
            "       [ 7.59478148e-04]]), 'dWy': array([[4.07353267e-05, 2.39339486e-04, 6.06791883e-04]]), 'dby': array([[-0.00016437]])} \n",
            "\n"
          ],
          "name": "stdout"
        }
      ]
    },
    {
      "cell_type": "code",
      "metadata": {
        "id": "lctSRG7EhtQ9",
        "colab_type": "code",
        "colab": {
          "base_uri": "https://localhost:8080/",
          "height": 1000
        },
        "outputId": "6bcf8103-6a86-4bdd-9184-b5e30d3119a4"
      },
      "source": [
        "parameters = model(X, Y, num_iterations=50000, n_h=3, learning_rate=0.01, print_chart=True, print_grad_updates=False)"
      ],
      "execution_count": 115,
      "outputs": [
        {
          "output_type": "stream",
          "text": [
            "Iteration: 0, Loss: 14.706586\n",
            "Iteration: 1000, Loss: 0.323967\n",
            "Iteration: 2000, Loss: 0.017639\n",
            "Iteration: 3000, Loss: 0.009862\n",
            "Iteration: 4000, Loss: 0.009506\n",
            "Iteration: 5000, Loss: 0.004105\n",
            "Iteration: 6000, Loss: 0.001150\n",
            "Iteration: 7000, Loss: 0.000433\n",
            "Iteration: 8000, Loss: 0.000293\n",
            "Iteration: 9000, Loss: 0.000262\n",
            "Iteration: 10000, Loss: 0.000248\n",
            "Iteration: 11000, Loss: 0.000237\n",
            "Iteration: 12000, Loss: 0.000226\n",
            "Iteration: 13000, Loss: 0.000216\n",
            "Iteration: 14000, Loss: 0.000206\n",
            "Iteration: 15000, Loss: 0.000196\n",
            "Iteration: 16000, Loss: 0.000188\n",
            "Iteration: 17000, Loss: 0.000179\n",
            "Iteration: 18000, Loss: 0.000171\n",
            "Iteration: 19000, Loss: 0.000164\n",
            "Iteration: 20000, Loss: 0.000156\n",
            "Iteration: 21000, Loss: 0.000150\n",
            "Iteration: 22000, Loss: 0.000143\n",
            "Iteration: 23000, Loss: 0.000137\n",
            "Iteration: 24000, Loss: 0.000131\n",
            "Iteration: 25000, Loss: 0.000126\n",
            "Iteration: 26000, Loss: 0.000121\n",
            "Iteration: 27000, Loss: 0.000116\n",
            "Iteration: 28000, Loss: 0.000111\n",
            "Iteration: 29000, Loss: 0.000107\n",
            "Iteration: 30000, Loss: 0.000103\n",
            "Iteration: 31000, Loss: 0.000099\n",
            "Iteration: 32000, Loss: 0.000095\n",
            "Iteration: 33000, Loss: 0.000091\n",
            "Iteration: 34000, Loss: 0.000088\n",
            "Iteration: 35000, Loss: 0.000085\n",
            "Iteration: 36000, Loss: 0.000082\n",
            "Iteration: 37000, Loss: 0.000079\n",
            "Iteration: 38000, Loss: 0.000076\n",
            "Iteration: 39000, Loss: 0.000074\n",
            "Iteration: 40000, Loss: 0.000071\n",
            "Iteration: 41000, Loss: 0.000069\n",
            "Iteration: 42000, Loss: 0.000067\n",
            "Iteration: 43000, Loss: 0.000065\n",
            "Iteration: 44000, Loss: 0.000063\n",
            "Iteration: 45000, Loss: 0.000061\n",
            "Iteration: 46000, Loss: 0.000059\n",
            "Iteration: 47000, Loss: 0.000057\n",
            "Iteration: 48000, Loss: 0.000056\n",
            "Iteration: 49000, Loss: 0.000054\n",
            "\n"
          ],
          "name": "stdout"
        },
        {
          "output_type": "display_data",
          "data": {
            "image/png": "[encoded data removed]",
            "text/plain": [
              "<Figure size 432x288 with 1 Axes>"
            ]
          },
          "metadata": {
            "tags": [],
            "needs_background": "light"
          }
        },
        {
          "output_type": "stream",
          "text": [
            "parameters \n",
            " {'Wr': array([[-0.05372756, -0.01800706,  0.0727376 ],\n",
            "       [-0.01385411,  0.01457855, -0.02099006],\n",
            "       [-0.04701065,  0.00121952,  0.05702149]]), 'Ur': array([[-0.1892485 ],\n",
            "       [ 0.00747789],\n",
            "       [-0.28893487]]), 'br': array([[0.19004267],\n",
            "       [0.00714843],\n",
            "       [0.14468512]]), 'Wz': array([[ 0.72023595, -0.30107557, -0.7841309 ],\n",
            "       [ 0.03850932, -0.09395999, -0.06268957],\n",
            "       [ 0.4452472 , -0.3014837 , -0.50523083]]), 'Uz': array([[1.16982278],\n",
            "       [0.0248885 ],\n",
            "       [1.22204264]]), 'bz': array([[-1.67812993],\n",
            "       [-0.16894997],\n",
            "       [-1.1772261 ]]), 'Wh': array([[ 0.73251251,  0.03178783, -0.64812447],\n",
            "       [-0.06151007,  0.17188139,  0.07288549],\n",
            "       [-0.60568065,  0.00115976,  0.56530469]]), 'Uh': array([[ 0.38958322],\n",
            "       [-0.59163606],\n",
            "       [-0.04123792]]), 'bh': array([[-0.75218816],\n",
            "       [ 0.31829402],\n",
            "       [ 0.74488113]]), 'Wy': array([[-0.92432983, -0.48158775,  0.42187478]]), 'by': array([[-0.08624373]])} \n",
            "\n",
            "final gradients \n",
            " {'dWr': array([[ 7.02295517e-06,  7.57041766e-05, -4.15778628e-05],\n",
            "       [ 5.35480777e-06, -4.80287117e-06, -4.58506138e-06],\n",
            "       [ 3.70578742e-05,  2.69359796e-05, -1.68497428e-05]]), 'dUr': array([[-1.94815589e-04],\n",
            "       [ 2.88290111e-06],\n",
            "       [-3.56812481e-05]]), 'dbr': array([[-5.43454844e-05],\n",
            "       [-7.88800622e-06],\n",
            "       [-7.00355979e-06]]), 'dWz': array([[ 1.69246876e-04, -4.21558210e-05, -1.14976976e-04],\n",
            "       [-3.65029603e-05,  7.37125566e-05,  3.12885572e-05],\n",
            "       [ 6.40424436e-05, -4.07879025e-06, -6.39630950e-05]]), 'dUz': array([[-4.91884212e-06],\n",
            "       [-7.61426132e-05],\n",
            "       [-6.38819290e-05]]), 'dbz': array([[-2.12005422e-04],\n",
            "       [ 6.58256853e-05],\n",
            "       [-1.25491375e-04]]), 'dWh': array([[-1.27578335e-04, -7.29223952e-05,  3.70517738e-05],\n",
            "       [-3.06768494e-05, -8.49547922e-05,  4.64408076e-06],\n",
            "       [-3.06725875e-06,  3.31200279e-05,  3.20064410e-05]]), 'dUh': array([[3.79383920e-05],\n",
            "       [7.20918455e-05],\n",
            "       [4.65828074e-05]]), 'dbh': array([[-6.22312561e-05],\n",
            "       [ 3.55596725e-05],\n",
            "       [ 1.62578435e-04]]), 'dWy': array([[ 2.99346616e-06, -1.24509633e-05,  1.41542514e-04]]), 'dby': array([[-4.83671951e-06]])} \n",
            "\n"
          ],
          "name": "stdout"
        }
      ]
    },
    {
      "cell_type": "markdown",
      "metadata": {
        "id": "gHpkfJJQciKf",
        "colab_type": "text"
      },
      "source": [
        "### 2. Multiple Examples"
      ]
    },
    {
      "cell_type": "code",
      "metadata": {
        "id": "wrse5Gj09Tcq",
        "colab_type": "code",
        "colab": {
          "base_uri": "https://localhost:8080/",
          "height": 34
        },
        "outputId": "11075cb1-a2c6-4aad-a038-ae9d64a23eb2"
      },
      "source": [
        "# Create training data with multiple examples\n",
        "T_x = 25\n",
        "m = 100\n",
        "\n",
        "X = np.zeros((T_x, m))\n",
        "\n",
        "for col in range(X.shape[1]):\n",
        "  r = np.random.randint(1, 20)\n",
        "  X[:, col] = [x/10.0 for x in range(r, r + T_x)]\n",
        "\n",
        "Y = np.sin(X)\n",
        "\n",
        "X.shape"
      ],
      "execution_count": 116,
      "outputs": [
        {
          "output_type": "execute_result",
          "data": {
            "text/plain": [
              "(25, 100)"
            ]
          },
          "metadata": {
            "tags": []
          },
          "execution_count": 116
        }
      ]
    },
    {
      "cell_type": "code",
      "metadata": {
        "id": "2K2ecZxx7Cc6",
        "colab_type": "code",
        "colab": {
          "base_uri": "https://localhost:8080/",
          "height": 1000
        },
        "outputId": "182d2860-0645-40e9-e816-eebe2620764e"
      },
      "source": [
        "parameters = model(X, Y, num_iterations=10000, n_h=3, learning_rate=0.005, print_chart=True, print_grad_updates=False, grad_max=10)"
      ],
      "execution_count": 120,
      "outputs": [
        {
          "output_type": "stream",
          "text": [
            "Iteration: 0, Loss: 1285.392496\n",
            "Iteration: 1000, Loss: 275.539821\n",
            "Iteration: 2000, Loss: 275.539515\n",
            "Iteration: 3000, Loss: 275.539442\n",
            "Iteration: 4000, Loss: 275.539410\n",
            "Iteration: 5000, Loss: 275.539391\n",
            "Iteration: 6000, Loss: 275.539379\n",
            "Iteration: 7000, Loss: 275.539371\n",
            "Iteration: 8000, Loss: 275.539365\n",
            "Iteration: 9000, Loss: 275.539360\n",
            "\n"
          ],
          "name": "stdout"
        },
        {
          "output_type": "display_data",
          "data": {
            "image/png": "[encoded data removed]",
            "text/plain": [
              "<Figure size 432x288 with 1 Axes>"
            ]
          },
          "metadata": {
            "tags": [],
            "needs_background": "light"
          }
        },
        {
          "output_type": "stream",
          "text": [
            "parameters \n",
            " {'Wr': array([[ 4.61327001, -0.47919887, -4.63188553],\n",
            "       [ 4.11990603,  1.38756854, -3.74476909],\n",
            "       [-2.24138529, -0.31854813,  2.17467387]]), 'Ur': array([[-5.35290649],\n",
            "       [ 4.6451491 ],\n",
            "       [ 6.63986165]]), 'br': array([[ 4.9442093 ],\n",
            "       [ 1.60466372],\n",
            "       [-2.00813333]]), 'Wz': array([[ -0.45786196,   4.74917575,   0.45841208],\n",
            "       [-11.7200494 ,  -4.20504801,  10.61787201],\n",
            "       [ -0.46163049,   4.71809337,   0.44626166]]), 'Uz': array([[  6.80374405],\n",
            "       [-15.01490415],\n",
            "       [  0.55630239]]), 'bz': array([[ -0.0883886 ],\n",
            "       [-14.51485397],\n",
            "       [  0.07438165]]), 'Wh': array([[ 5.51876942e-01, -5.16866661e+00, -2.72529409e-03],\n",
            "       [ 2.39475355e+00,  2.17591944e+00, -2.33079713e+00],\n",
            "       [-2.88428969e-01,  5.18309096e+00, -1.84383673e-01]]), 'Uh': array([[0.41874796],\n",
            "       [2.55583704],\n",
            "       [0.31425738]]), 'bh': array([[ 0.59302587],\n",
            "       [ 2.07954033],\n",
            "       [-0.88736859]]), 'Wy': array([[ 0.05976373,  0.42605023, -0.91306226]]), 'by': array([[0.1468982]])} \n",
            "\n",
            "final gradients \n",
            " {'dWr': array([[ 1.00000000e+01,  1.62456247e-04, -1.00000000e+01],\n",
            "       [-1.73910810e-03, -1.81063329e-10,  1.20272873e-03],\n",
            "       [-1.00000000e+01, -1.03336181e-05,  1.00000000e+01]]), 'dUr': array([[ 1.00000000e+01],\n",
            "       [-2.69887086e-03],\n",
            "       [-1.00000000e+01]]), 'dbr': array([[ 1.00000000e+01],\n",
            "       [-1.90797771e-03],\n",
            "       [-1.00000000e+01]]), 'dWz': array([[-1.00000000e+01, -3.56101683e-04,  1.00000000e+01],\n",
            "       [ 3.27532061e-02,  3.66845232e-09, -2.56232186e-02],\n",
            "       [-1.00000000e+01, -4.40664918e-04,  1.00000000e+01]]), 'dUz': array([[-10.        ],\n",
            "       [  0.03553163],\n",
            "       [-10.        ]]), 'dbz': array([[-10.       ],\n",
            "       [  0.0386233],\n",
            "       [-10.       ]]), 'dWh': array([[ 1.00000000e+01,  8.93128184e-04, -1.00000000e+01],\n",
            "       [-9.44888845e-08, -2.59055792e-14,  7.59739662e-09],\n",
            "       [-1.00000000e+01, -9.81249994e-04,  1.00000000e+01]]), 'dUh': array([[ 1.00000000e+01],\n",
            "       [-6.99408453e-04],\n",
            "       [-1.00000000e+01]]), 'dbh': array([[ 1.00000000e+01],\n",
            "       [-5.86986437e-03],\n",
            "       [-1.00000000e+01]]), 'dWy': array([[ 1.00000000e+01,  3.83025273e-06, -1.00000000e+01]]), 'dby': array([[10.]])} \n",
            "\n"
          ],
          "name": "stdout"
        }
      ]
    },
    {
      "cell_type": "code",
      "metadata": {
        "id": "sC7-uHMVizTh",
        "colab_type": "code",
        "colab": {}
      },
      "source": [
        ""
      ],
      "execution_count": null,
      "outputs": []
    }
  ]
}