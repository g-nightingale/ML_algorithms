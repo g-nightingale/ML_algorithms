{
  "nbformat": 4,
  "nbformat_minor": 0,
  "metadata": {
    "colab": {
      "name": "RNN.ipynb",
      "provenance": [],
      "collapsed_sections": [],
      "authorship_tag": "ABX9TyPSSLc8fG97/UehndPxZQyA",
      "include_colab_link": true
    },
    "kernelspec": {
      "name": "python3",
      "display_name": "Python 3"
    }
  },
  "cells": [
    {
      "cell_type": "markdown",
      "metadata": {
        "id": "view-in-github",
        "colab_type": "text"
      },
      "source": [
        "<a href=\"https://colab.research.google.com/github/g-nightingale/ml-algorithms/blob/master/RNN.ipynb\" target=\"_parent\"><img src=\"https://colab.research.google.com/assets/colab-badge.svg\" alt=\"Open In Colab\"/></a>"
      ]
    },
    {
      "cell_type": "markdown",
      "metadata": {
        "id": "Ny-RkwO1K8vT",
        "colab_type": "text"
      },
      "source": [
        "##Vanilla RNN from scratch <br>\n",
        "Author: Geoff Nightingale <br>\n",
        "Date: 13/05/2020 <br>\n",
        "Useful links:\n",
        "- https://github.com/Kulbear/deep-learning-coursera/blob/master/Sequence%20Models/Building%20a%20Recurrent%20Neural%20Network%20-%20Step%20by%20Step%20-%20v2.ipynb\n",
        "- https://www.coursera.org/learn/nlp-sequence-models/discussions/weeks/1/threads/Ma0W1RBdEeiM0AqkY8EcsA"
      ]
    },
    {
      "cell_type": "markdown",
      "metadata": {
        "id": "BJq_6_7AzBFV",
        "colab_type": "text"
      },
      "source": [
        "### RNN Training Process Overview\n",
        "- Parameter initialisation\n",
        "  - Optimisation Loop\n",
        "      - Forward Pass\n",
        "          - For each time step\n",
        "              - Calculation activation at timestep t\n",
        "              - Cache predictions and activations\n",
        "              - Accumulate losses: losses += (y hat - y)^2\n",
        "      - Backwards Pass\n",
        "          - Retrieve cache and parameters\n",
        "          - Set gradients to zero\n",
        "          - For each time step\n",
        "              - Calculate gradients\n",
        "              - Update gradients\n",
        "      - Update parameters\n",
        "          - weight = weight + lr * partial derivatives\n"
      ]
    },
    {
      "cell_type": "code",
      "metadata": {
        "id": "iNdtNHpMLPOj",
        "colab_type": "code",
        "colab": {}
      },
      "source": [
        "import numpy as np\n",
        "import matplotlib.pyplot as plt\n",
        "\n",
        "np.random.seed(42)"
      ],
      "execution_count": 0,
      "outputs": []
    },
    {
      "cell_type": "code",
      "metadata": {
        "id": "XUEvhWqiLKjb",
        "colab_type": "code",
        "colab": {}
      },
      "source": [
        "# Checking some calculations\n",
        "\n",
        "m = 5\n",
        "n_x = 1\n",
        "n_y = 1\n",
        "n_a = 3\n",
        "T_x = 10\n",
        "\n",
        "xt = np.random.randn(n_x, m)\n",
        "a_prev = np.random.randn(n_a, m)\n",
        "\n",
        "Wax = np.random.randn(n_a, n_x)\n",
        "Waa = np.random.randn(n_a, n_a)\n",
        "Wya = np.random.randn(n_y, n_a)\n",
        "ba = np.random.randn(n_a, 1)\n",
        "by = np.random.randn(n_y, 1)\n",
        "\n",
        "parameters = {\"Waa\": Waa, \"Wax\": Wax, \"Wya\": Wya, \"ba\": ba, \"by\": by}\n"
      ],
      "execution_count": 0,
      "outputs": []
    },
    {
      "cell_type": "code",
      "metadata": {
        "id": "WK6N4m6LLNi9",
        "colab_type": "code",
        "outputId": "16ac26cd-4e02-4ecf-8693-36e233cb72d6",
        "colab": {
          "base_uri": "https://localhost:8080/",
          "height": 67
        }
      },
      "source": [
        "# Checking activation function calculation\n",
        "# (3 x 1)(1 x m) + (3 x 3)(3 x m) + (3 x m)\n",
        "z = np.dot(Wax,xt) + np.dot(Waa,a_prev) + ba\n",
        "z"
      ],
      "execution_count": 3,
      "outputs": [
        {
          "output_type": "execute_result",
          "data": {
            "text/plain": [
              "array([[ 0.03065724, -3.53228177, -1.46182393,  2.62110229, -1.55468261],\n",
              "       [ 0.52983398, -1.1442116 , -0.91852593,  0.23194035, -0.16251721],\n",
              "       [-2.62050306, -4.02546569, -1.70330561, -2.25055972, -3.71182833]])"
            ]
          },
          "metadata": {
            "tags": []
          },
          "execution_count": 3
        }
      ]
    },
    {
      "cell_type": "code",
      "metadata": {
        "id": "Xo1sDE6ZGFNX",
        "colab_type": "code",
        "outputId": "9aad4048-c4fd-4399-f065-636fe6f06b32",
        "colab": {
          "base_uri": "https://localhost:8080/",
          "height": 34
        }
      },
      "source": [
        "# Verifying tanh function\n",
        "c = -0.04859525\n",
        "tanh_gn = (np.exp(c) - np.exp(-c))/(np.exp(c) + np.exp(-c))\n",
        "tanh_gn"
      ],
      "execution_count": 4,
      "outputs": [
        {
          "output_type": "execute_result",
          "data": {
            "text/plain": [
              "-0.04855703356502644"
            ]
          },
          "metadata": {
            "tags": []
          },
          "execution_count": 4
        }
      ]
    },
    {
      "cell_type": "markdown",
      "metadata": {
        "id": "vBBGLUeNjg8M",
        "colab_type": "text"
      },
      "source": [
        "### 1.0 Create training data"
      ]
    },
    {
      "cell_type": "code",
      "metadata": {
        "id": "91ROGgLgNIea",
        "colab_type": "code",
        "outputId": "41116bff-b870-4952-ccc5-7aad413fd0ab",
        "colab": {
          "base_uri": "https://localhost:8080/",
          "height": 281
        }
      },
      "source": [
        "X = np.array([x/10.0 for x in range(25)])\n",
        "Y = np.sin(X)\n",
        "\n",
        "plt.figure()\n",
        "plt.title('X and Y')\n",
        "plt.plot(X, label='x')\n",
        "plt.plot(Y, label='y')\n",
        "plt.legend()\n",
        "plt.show()"
      ],
      "execution_count": 5,
      "outputs": [
        {
          "output_type": "display_data",
          "data": {
            "image/png": "[encoded data removed]",
            "text/plain": [
              "<Figure size 432x288 with 1 Axes>"
            ]
          },
          "metadata": {
            "tags": [],
            "needs_background": "light"
          }
        }
      ]
    },
    {
      "cell_type": "markdown",
      "metadata": {
        "id": "O46_bsF9smPP",
        "colab_type": "text"
      },
      "source": [
        "#### 1.1 Initialise functions"
      ]
    },
    {
      "cell_type": "code",
      "metadata": {
        "id": "KyGvDQidT5Yo",
        "colab_type": "code",
        "colab": {}
      },
      "source": [
        "def initialize_parameters(n_a, n_x, n_y):\n",
        "    \"\"\"\n",
        "    Initialize parameters with small random values\n",
        "    \n",
        "    Returns:\n",
        "    parameters -- python dictionary containing:\n",
        "                        Wax -- Weight matrix multiplying the input, numpy array of shape (n_a, n_x)\n",
        "                        Waa -- Weight matrix multiplying the hidden state, numpy array of shape (n_a, n_a)\n",
        "                        Wya -- Weight matrix relating the hidden-state to the output, numpy array of shape (n_y, n_a)\n",
        "                        b --  Bias, numpy array of shape (n_a, 1)\n",
        "                        by -- Bias relating the hidden-state to the output, numpy array of shape (n_y, 1)\n",
        "    \"\"\"\n",
        "    np.random.seed(1)\n",
        "    Wax = np.random.randn(n_a, n_x)*0.01 # input to hidden\n",
        "    Waa = np.random.randn(n_a, n_a)*0.01 # hidden to hidden\n",
        "    Wya = np.random.randn(n_y, n_a)*0.01 # hidden to output\n",
        "    b = np.zeros((n_a, 1)) # hidden bias\n",
        "    by = np.zeros((n_y, 1)) # output bias\n",
        "    \n",
        "    parameters = {\"Wax\": Wax, \"Waa\": Waa, \"Wya\": Wya, \"b\": b,\"by\": by}\n",
        "    \n",
        "    return parameters\n"
      ],
      "execution_count": 0,
      "outputs": []
    },
    {
      "cell_type": "code",
      "metadata": {
        "id": "TIOVxrkVWGr8",
        "colab_type": "code",
        "colab": {}
      },
      "source": [
        "def rnn_step_forward(parameters, a_prev, x):\n",
        "    \"\"\"\n",
        "    Computes single step forward of RNN\n",
        "    \"\"\"\n",
        "\n",
        "    Waa, Wax, Wya, by, b = parameters['Waa'], parameters['Wax'], parameters['Wya'], parameters['by'], parameters['b']\n",
        "    a_next = np.tanh(np.dot(Wax, x) + np.dot(Waa, a_prev) + b) # hidden state\n",
        "    p_t = np.dot(Wya, a_next) + by\n",
        "    #p_t = softmax(np.dot(Wya, a_next) + by) # unnormalized log probabilities for next chars # probabilities for next chars \n",
        "    \n",
        "    return a_next, p_t"
      ],
      "execution_count": 0,
      "outputs": []
    },
    {
      "cell_type": "code",
      "metadata": {
        "id": "XQ7qz5_uWItG",
        "colab_type": "code",
        "colab": {}
      },
      "source": [
        "def rnn_step_backward(dy, gradients, parameters, x, a, a_prev):\n",
        "    \"\"\"\n",
        "    Computes single step backward of RNN\n",
        "    \"\"\"\n",
        "\n",
        "    gradients['dWya'] += np.dot(dy, a.T)\n",
        "\n",
        "    if dy.ndim == 1:\n",
        "        dy_sum = np.sum(dy)\n",
        "    else:\n",
        "        dy_sum = np.sum(dy, axis=1, keepdims=True)\n",
        "\n",
        "    gradients['dby'] += dy_sum\n",
        "    da = np.dot(parameters['Wya'].T, dy_sum) + gradients['da_next'] # backprop into h\n",
        "    daraw = (1 - a ** 2) * da\n",
        " \n",
        "    gradients['db'] += np.sum(daraw, axis=1, keepdims=True)\n",
        "    gradients['dWax'] += np.dot(daraw, x.T)\n",
        "    gradients['dWaa'] += np.dot(daraw, a_prev.T)\n",
        "    gradients['da_next'] = np.dot(parameters['Waa'].T, daraw)\n",
        "\n",
        "    return gradients"
      ],
      "execution_count": 0,
      "outputs": []
    },
    {
      "cell_type": "code",
      "metadata": {
        "id": "FabzBrXrWLH_",
        "colab_type": "code",
        "colab": {}
      },
      "source": [
        "def update_parameters(parameters, gradients, lr, print_grad_updates=False):\n",
        "    \"\"\"\n",
        "    Updates parameters using specified learning rate\n",
        "    \"\"\"\n",
        "\n",
        "    if print_grad_updates is True:\n",
        "        print('Wax before', parameters['Wax'])\n",
        "        print('Waa before', parameters['Waa'])\n",
        "        print('Wya before', parameters['Wya'])\n",
        "        print('b before', parameters['b'])\n",
        "        print('by before', parameters['by'], '\\n')\n",
        "\n",
        "        print('dWax', gradients['dWax'])\n",
        "        print('dWaa', gradients['dWaa'])\n",
        "        print('dWya', gradients['dWya'])\n",
        "        print('db', gradients['db'])\n",
        "        print('dby', gradients['dby'], '\\n')\n",
        "\n",
        "    parameters['Wax'] += -lr * gradients['dWax']\n",
        "    parameters['Waa'] += -lr * gradients['dWaa']\n",
        "    parameters['Wya'] += -lr * gradients['dWya']\n",
        "    parameters['b']  += -lr * gradients['db']\n",
        "    parameters['by']  += -lr * gradients['dby']\n",
        "\n",
        "    if print_grad_updates is True:\n",
        "        print('Wax after', parameters['Wax'])\n",
        "        print('Waa after', parameters['Waa'])\n",
        "        print('Wya after', parameters['Wya'])\n",
        "        print('b after', parameters['b'])\n",
        "        print('by after', parameters['by'], '\\n')\n",
        "\n",
        "    return parameters"
      ],
      "execution_count": 0,
      "outputs": []
    },
    {
      "cell_type": "code",
      "metadata": {
        "id": "C8XNPhwbWNNp",
        "colab_type": "code",
        "colab": {}
      },
      "source": [
        "def rnn_forward(X, Y, a0, parameters):\n",
        "    \"\"\"\n",
        "    Computes forward propagation of RNN across all timesteps\n",
        "    \"\"\"\n",
        "    \n",
        "    # Initialize x, a and y_hat as empty dictionaries\n",
        "    x, a, y_hat = {}, {}, {}\n",
        "    \n",
        "    a[-1] = np.copy(a0)\n",
        "    \n",
        "    # initialize your loss to 0\n",
        "    loss = 0\n",
        "    \n",
        "    for t in range(len(X)):\n",
        "\n",
        "        # Run one step forward of the RNN\n",
        "        if X.ndim == 1:\n",
        "            x = X[t]\n",
        "        else:\n",
        "            x = X[t].reshape((1, X.shape[1]))\n",
        "\n",
        "        a[t], y_hat[t] = rnn_step_forward(parameters, a[t-1], x)\n",
        "\n",
        "        # Update the loss by substracting the cross-entropy term of this time-step from it.\n",
        "        #loss -= np.log(y_hat[t][Y[t],0])\n",
        "\n",
        "        # Using sqaured error in place of cross entropy\n",
        "        loss += np.sum((y_hat[t] - Y[t])**2)\n",
        "\n",
        "    cache = (y_hat, a, x)\n",
        "    \n",
        "    return loss, cache\n"
      ],
      "execution_count": 0,
      "outputs": []
    },
    {
      "cell_type": "code",
      "metadata": {
        "id": "P5k6G6O2xpaA",
        "colab_type": "code",
        "colab": {}
      },
      "source": [
        "def clip(gradients, maxValue):\n",
        "    \"\"\"\n",
        "    Clips the gradients' values between minimum and maximum.\n",
        "    \n",
        "    Arguments:\n",
        "    gradients -- a dictionary containing the gradients \"dWaa\", \"dWax\", \"dWya\", \"db\", \"dby\"\n",
        "    maxValue -- everything above this number is set to this number, and everything less than -maxValue is set to -maxValue\n",
        "    \n",
        "    Returns: \n",
        "    gradients -- a dictionary with the clipped gradients.\n",
        "    \"\"\"\n",
        "    \n",
        "    dWaa, dWax, dWya, db, dby = gradients['dWaa'], gradients['dWax'], gradients['dWya'], gradients['db'], gradients['dby']\n",
        "   \n",
        "    # clip to mitigate exploding gradients, loop over [dWax, dWaa, dWya, db, dby]. (≈2 lines)\n",
        "    for gradient in [dWax, dWaa, dWya, db, dby]:\n",
        "        np.clip(gradient, -maxValue, maxValue, out = gradient)\n",
        "    \n",
        "    gradients = {\"dWaa\": dWaa, \"dWax\": dWax, \"dWya\": dWya, \"db\": db, \"dby\": dby}\n",
        "    \n",
        "    return gradients"
      ],
      "execution_count": 0,
      "outputs": []
    },
    {
      "cell_type": "code",
      "metadata": {
        "id": "XTymPhXRWQDU",
        "colab_type": "code",
        "colab": {}
      },
      "source": [
        "def rnn_backward(X, Y, parameters, cache):\n",
        "    \"\"\"\n",
        "    Back propagation through time\n",
        "    \"\"\"\n",
        "\n",
        "    # Initialize gradients as an empty dictionary\n",
        "    gradients = {}\n",
        "    \n",
        "    # Retrieve from cache and parameters\n",
        "    (y_hat, a, x) = cache\n",
        "    Waa, Wax, Wya, by, b = parameters['Waa'], parameters['Wax'], parameters['Wya'], parameters['by'], parameters['b']\n",
        "    \n",
        "    # Each one should be initialized to zeros of the same dimension as its corresponding parameter\n",
        "    gradients['dWax'], gradients['dWaa'], gradients['dWya'] = np.zeros_like(Wax), np.zeros_like(Waa), np.zeros_like(Wya)\n",
        "    gradients['db'], gradients['dby'] = np.zeros_like(b), np.zeros_like(by)\n",
        "    gradients['da_next'] = np.zeros_like(a[0])\n",
        "\n",
        "    # Backpropagate through time\n",
        "    for t in reversed(range(len(X))):\n",
        "        dy = y_hat[t] - Y[t]\n",
        "        #dy[Y[t]] -= 1\n",
        "\n",
        "        if X.ndim == 1:\n",
        "            x = X[t]\n",
        "        else:\n",
        "            x = X[t].reshape((1, X.shape[1]))\n",
        "\n",
        "        gradients = rnn_step_backward(dy, gradients, parameters, x, a[t], a[t-1])\n",
        "    \n",
        "    return gradients, a    \n"
      ],
      "execution_count": 0,
      "outputs": []
    },
    {
      "cell_type": "code",
      "metadata": {
        "id": "hiMF69mliGqV",
        "colab_type": "code",
        "colab": {}
      },
      "source": [
        "def optimize(X, Y, a_prev, parameters, learning_rate=0.01, grad_max=100, print_grad_updates=False):\n",
        "    \"\"\"\n",
        "    Execute one step of the optimization to train the model.\n",
        "    \n",
        "    Arguments:\n",
        "    X -- list of integers, where each integer is a number that maps to a character in the vocabulary.\n",
        "    Y -- list of integers, exactly the same as X but shifted one index to the left.\n",
        "    a_prev -- previous hidden state.\n",
        "    parameters -- python dictionary containing:\n",
        "                        Wax -- Weight matrix multiplying the input, numpy array of shape (n_a, n_x)\n",
        "                        Waa -- Weight matrix multiplying the hidden state, numpy array of shape (n_a, n_a)\n",
        "                        Wya -- Weight matrix relating the hidden-state to the output, numpy array of shape (n_y, n_a)\n",
        "                        b --  Bias, numpy array of shape (n_a, 1)\n",
        "                        by -- Bias relating the hidden-state to the output, numpy array of shape (n_y, 1)\n",
        "    learning_rate -- learning rate for the model.\n",
        "    \n",
        "    Returns:\n",
        "    loss -- value of the loss function (cross-entropy)\n",
        "    gradients -- python dictionary containing:\n",
        "                        dWax -- Gradients of input-to-hidden weights, of shape (n_a, n_x)\n",
        "                        dWaa -- Gradients of hidden-to-hidden weights, of shape (n_a, n_a)\n",
        "                        dWya -- Gradients of hidden-to-output weights, of shape (n_y, n_a)\n",
        "                        db -- Gradients of bias vector, of shape (n_a, 1)\n",
        "                        dby -- Gradients of output bias vector, of shape (n_y, 1)\n",
        "    a[len(X)-1] -- the last hidden state, of shape (n_a, 1)\n",
        "    \"\"\"\n",
        "\n",
        "    # Forward propagate through time (≈1 line)\n",
        "    loss, cache = rnn_forward(X, Y, a_prev, parameters)\n",
        "    \n",
        "    # Backpropagate through time (≈1 line)\n",
        "    gradients, a = rnn_backward(X, Y, parameters, cache)\n",
        "\n",
        "    # Clip your gradients between -5 (min) and 5 (max) (≈1 line)\n",
        "    gradients = clip(gradients, grad_max)\n",
        "    \n",
        "    # Update parameters (≈1 line)\n",
        "    parameters = update_parameters(parameters, gradients, learning_rate, print_grad_updates=print_grad_updates)\n",
        "\n",
        "    return loss, gradients, a[len(X)-1]"
      ],
      "execution_count": 0,
      "outputs": []
    },
    {
      "cell_type": "code",
      "metadata": {
        "id": "Phxj4iNEWStm",
        "colab_type": "code",
        "colab": {}
      },
      "source": [
        "def model(X, Y, num_iterations=10, n_a=3, learning_rate=0.01, print_chart=False, grad_max=100, print_grad_updates=False, update_n=1000):\n",
        "    \"\"\"\n",
        "    Trains the model and generates dinosaur names. \n",
        "    \n",
        "    Arguments:  \n",
        "    data -- text corpus\n",
        "    ix_to_char -- dictionary that maps the index to a character\n",
        "    char_to_ix -- dictionary that maps a character to an index\n",
        "    num_iterations -- number of iterations to train the model for\n",
        "    n_a -- number of units of the RNN cell\n",
        "    dino_names -- number of dinosaur names you want to sample at each iteration. \n",
        "    vocab_size -- number of unique characters found in the text, size of the vocabulary\n",
        "    \n",
        "    Returns:\n",
        "    parameters -- learned parameters\n",
        "    \"\"\"\n",
        "    \n",
        "    # Retrieve n_x and n_y from vocab_size\n",
        "    if X.ndim == 1:\n",
        "        m = 1\n",
        "    else:\n",
        "      m = X.shape[1] # Training examples\n",
        "    n_x = 1\n",
        "    n_y = 1\n",
        "\n",
        "    # Initialize parameters\n",
        "    parameters = initialize_parameters(n_a, n_x, n_y)\n",
        "    \n",
        "    # Initialize the hidden state of your LSTM\n",
        "    a_prev = np.zeros((n_a, m))\n",
        "\n",
        "    # Optimization loop\n",
        "    for j in range(num_iterations):\n",
        "        \n",
        "        # Perform one optimization step: Forward-prop -> Backward-prop -> Clip -> Update parameters\n",
        "        loss, gradients, a_prev = optimize(X, Y, a_prev, parameters, learning_rate=learning_rate, grad_max=grad_max, print_grad_updates=print_grad_updates)     \n",
        "\n",
        "        # Every Z iterations, generate \"n\" characters thanks to sample() to check if the model is learning properly\n",
        "        if j % update_n == 0:\n",
        "            print('Iteration: %d, Loss: %f' % (j, loss))\n",
        "\n",
        "    # Print chart of actual vs expected for first example\n",
        "    if print_chart is True:\n",
        "        print()\n",
        "        if X.ndim == 1:\n",
        "          loss, cache = rnn_forward(X, Y, a_prev, parameters)\n",
        "        else:\n",
        "          loss, cache = rnn_forward(X[:, 0], Y[:, 0], a_prev, parameters)\n",
        "\n",
        "        preds = []\n",
        "        for l in range(len(cache[0])):\n",
        "          preds.append(cache[0][l][0][0])\n",
        "\n",
        "        plt.title('Actual vs Expected')\n",
        "        if X.ndim == 1:\n",
        "          plt.plot(Y, label='y actual')\n",
        "        else:\n",
        "          plt.plot(Y[:, 0], label='y actual')\n",
        "\n",
        "        plt.plot(preds, label='y pred')\n",
        "        plt.legend()\n",
        "        plt.show()\n",
        "\n",
        "\n",
        "    print('parameters', '\\n', parameters, '\\n')\n",
        "    print('final gradients', '\\n', gradients, '\\n')\n",
        "     \n",
        "    return parameters\n"
      ],
      "execution_count": 0,
      "outputs": []
    },
    {
      "cell_type": "markdown",
      "metadata": {
        "id": "_IMP2woUH48K",
        "colab_type": "text"
      },
      "source": [
        "#### 1.2 Run models with single example and varying size of a"
      ]
    },
    {
      "cell_type": "code",
      "metadata": {
        "id": "o1qwAZpJ1aUM",
        "colab_type": "code",
        "outputId": "ba76af92-c938-4847-8727-76e081966117",
        "colab": {
          "base_uri": "https://localhost:8080/",
          "height": 734
        }
      },
      "source": [
        "parameters = model(X, Y, num_iterations=20000, n_a=1, learning_rate=0.01, print_chart=True)"
      ],
      "execution_count": 0,
      "outputs": [
        {
          "output_type": "stream",
          "text": [
            "Iteration: 0, Loss: 14.714538\n",
            "Iteration: 1000, Loss: 0.171223\n",
            "Iteration: 2000, Loss: 0.167507\n",
            "Iteration: 3000, Loss: 0.164070\n",
            "Iteration: 4000, Loss: 0.160806\n",
            "Iteration: 5000, Loss: 0.157921\n",
            "Iteration: 6000, Loss: 0.155493\n",
            "Iteration: 7000, Loss: 0.153504\n",
            "Iteration: 8000, Loss: 0.151888\n",
            "Iteration: 9000, Loss: 0.150573\n",
            "Iteration: 10000, Loss: 0.149495\n",
            "Iteration: 11000, Loss: 0.148600\n",
            "Iteration: 12000, Loss: 0.147849\n",
            "Iteration: 13000, Loss: 0.147210\n",
            "Iteration: 14000, Loss: 0.146662\n",
            "Iteration: 15000, Loss: 0.146185\n",
            "Iteration: 16000, Loss: 0.145767\n",
            "Iteration: 17000, Loss: 0.145396\n",
            "Iteration: 18000, Loss: 0.145065\n",
            "Iteration: 19000, Loss: 0.144767\n",
            "\n"
          ],
          "name": "stdout"
        },
        {
          "output_type": "display_data",
          "data": {
            "image/png": "[encoded data removed]",
            "text/plain": [
              "<Figure size 432x288 with 1 Axes>"
            ]
          },
          "metadata": {
            "tags": [],
            "needs_background": "light"
          }
        },
        {
          "output_type": "stream",
          "text": [
            "parameters \n",
            " {'Wax': array([[2.44153161]]), 'Waa': array([[-0.14092471]]), 'Wya': array([[0.49279201]]), 'b': array([[-1.09257478]]), 'by': array([[0.41827476]])} \n",
            "\n",
            "final gradients \n",
            " {'dWaa': array([[0.00091566]]), 'dWax': array([[-0.00280607]]), 'dWya': array([[0.00022204]]), 'db': array([[0.00201676]]), 'dby': array([[-0.00020817]])} \n",
            "\n"
          ],
          "name": "stdout"
        }
      ]
    },
    {
      "cell_type": "code",
      "metadata": {
        "id": "bF1gwkcElrI1",
        "colab_type": "code",
        "outputId": "b032b644-131c-4a7f-b9e8-04d0ded1ea82",
        "colab": {
          "base_uri": "https://localhost:8080/",
          "height": 734
        }
      },
      "source": [
        "parameters = model(X, Y, num_iterations=20000, n_a=1, learning_rate=0.01, print_chart=True)"
      ],
      "execution_count": 0,
      "outputs": [
        {
          "output_type": "stream",
          "text": [
            "Iteration: 0, Loss: 14.714538\n",
            "Iteration: 1000, Loss: 0.171223\n",
            "Iteration: 2000, Loss: 0.167507\n",
            "Iteration: 3000, Loss: 0.164070\n",
            "Iteration: 4000, Loss: 0.160806\n",
            "Iteration: 5000, Loss: 0.157921\n",
            "Iteration: 6000, Loss: 0.155493\n",
            "Iteration: 7000, Loss: 0.153504\n",
            "Iteration: 8000, Loss: 0.151888\n",
            "Iteration: 9000, Loss: 0.150573\n",
            "Iteration: 10000, Loss: 0.149495\n",
            "Iteration: 11000, Loss: 0.148600\n",
            "Iteration: 12000, Loss: 0.147849\n",
            "Iteration: 13000, Loss: 0.147210\n",
            "Iteration: 14000, Loss: 0.146662\n",
            "Iteration: 15000, Loss: 0.146185\n",
            "Iteration: 16000, Loss: 0.145767\n",
            "Iteration: 17000, Loss: 0.145396\n",
            "Iteration: 18000, Loss: 0.145065\n",
            "Iteration: 19000, Loss: 0.144767\n",
            "\n"
          ],
          "name": "stdout"
        },
        {
          "output_type": "display_data",
          "data": {
            "image/png": "[encoded data removed]",
            "text/plain": [
              "<Figure size 432x288 with 1 Axes>"
            ]
          },
          "metadata": {
            "tags": [],
            "needs_background": "light"
          }
        },
        {
          "output_type": "stream",
          "text": [
            "parameters \n",
            " {'Wax': array([[2.44153161]]), 'Waa': array([[-0.14092471]]), 'Wya': array([[0.49279201]]), 'b': array([[-1.09257478]]), 'by': array([[0.41827476]])} \n",
            "\n",
            "final gradients \n",
            " {'dWaa': array([[0.00091566]]), 'dWax': array([[-0.00280607]]), 'dWya': array([[0.00022204]]), 'db': array([[0.00201676]]), 'dby': array([[-0.00020817]])} \n",
            "\n"
          ],
          "name": "stdout"
        }
      ]
    },
    {
      "cell_type": "code",
      "metadata": {
        "id": "d3BLkQOJxJGK",
        "colab_type": "code",
        "outputId": "82e895ba-a4d7-42a6-86a8-5fb599e27766",
        "colab": {
          "base_uri": "https://localhost:8080/",
          "height": 835
        }
      },
      "source": [
        "parameters = model(X, Y, num_iterations=20000, n_a=2, learning_rate=0.005, print_chart=True)"
      ],
      "execution_count": 0,
      "outputs": [
        {
          "output_type": "stream",
          "text": [
            "Iteration: 0, Loss: 14.693690\n",
            "Iteration: 1000, Loss: 0.183217\n",
            "Iteration: 2000, Loss: 0.122519\n",
            "Iteration: 3000, Loss: 0.067011\n",
            "Iteration: 4000, Loss: 0.030455\n",
            "Iteration: 5000, Loss: 0.014656\n",
            "Iteration: 6000, Loss: 0.008816\n",
            "Iteration: 7000, Loss: 0.006423\n",
            "Iteration: 8000, Loss: 0.005177\n",
            "Iteration: 9000, Loss: 0.004366\n",
            "Iteration: 10000, Loss: 0.003763\n",
            "Iteration: 11000, Loss: 0.003283\n",
            "Iteration: 12000, Loss: 0.002887\n",
            "Iteration: 13000, Loss: 0.002553\n",
            "Iteration: 14000, Loss: 0.002267\n",
            "Iteration: 15000, Loss: 0.002020\n",
            "Iteration: 16000, Loss: 0.001804\n",
            "Iteration: 17000, Loss: 0.001616\n",
            "Iteration: 18000, Loss: 0.001450\n",
            "Iteration: 19000, Loss: 0.001304\n",
            "\n"
          ],
          "name": "stdout"
        },
        {
          "output_type": "display_data",
          "data": {
            "image/png": "[encoded data removed]",
            "text/plain": [
              "<Figure size 432x288 with 1 Axes>"
            ]
          },
          "metadata": {
            "tags": [],
            "needs_background": "light"
          }
        },
        {
          "output_type": "stream",
          "text": [
            "parameters \n",
            " {'Wax': array([[ 1.27592187],\n",
            "       [-0.46356214]]), 'Waa': array([[-0.25904032, -0.19067935],\n",
            "       [ 0.44975041,  0.44969142]]), 'Wya': array([[0.90791755, 0.88015586]]), 'b': array([[-0.3505144],\n",
            "       [ 0.6349382]]), 'by': array([[-0.20434693]])} \n",
            "\n",
            "final gradients \n",
            " {'dWaa': array([[-5.72014116e-05,  1.02449533e-03],\n",
            "       [-1.16994797e-03, -1.21566523e-03]]), 'dWax': array([[0.00023797],\n",
            "       [0.00049813]]), 'dWya': array([[9.05835827e-05, 5.84280374e-04]]), 'db': array([[-0.00210678],\n",
            "       [-0.00085814]]), 'dby': array([[0.00169783]])} \n",
            "\n"
          ],
          "name": "stdout"
        }
      ]
    },
    {
      "cell_type": "code",
      "metadata": {
        "id": "oCNHMcXh0OWL",
        "colab_type": "code",
        "outputId": "2786b4b7-1947-418d-ebe4-be67624ec1bf",
        "colab": {
          "base_uri": "https://localhost:8080/",
          "height": 936
        }
      },
      "source": [
        "parameters = model(X, Y, num_iterations=20000, n_a=3, learning_rate=0.01, print_chart=True)"
      ],
      "execution_count": 0,
      "outputs": [
        {
          "output_type": "stream",
          "text": [
            "Iteration: 0, Loss: 14.714762\n",
            "Iteration: 1000, Loss: 0.144306\n",
            "Iteration: 2000, Loss: 0.039127\n",
            "Iteration: 3000, Loss: 0.006697\n",
            "Iteration: 4000, Loss: 0.003492\n",
            "Iteration: 5000, Loss: 0.002626\n",
            "Iteration: 6000, Loss: 0.002068\n",
            "Iteration: 7000, Loss: 0.001665\n",
            "Iteration: 8000, Loss: 0.001278\n",
            "Iteration: 9000, Loss: 0.001007\n",
            "Iteration: 10000, Loss: 0.000793\n",
            "Iteration: 11000, Loss: 0.000626\n",
            "Iteration: 12000, Loss: 0.000494\n",
            "Iteration: 13000, Loss: 0.000391\n",
            "Iteration: 14000, Loss: 0.000310\n",
            "Iteration: 15000, Loss: 0.000247\n",
            "Iteration: 16000, Loss: 0.000198\n",
            "Iteration: 17000, Loss: 0.000160\n",
            "Iteration: 18000, Loss: 0.000130\n",
            "Iteration: 19000, Loss: 0.000107\n",
            "\n"
          ],
          "name": "stdout"
        },
        {
          "output_type": "display_data",
          "data": {
            "image/png": "[encoded data removed]",
            "text/plain": [
              "<Figure size 432x288 with 1 Axes>"
            ]
          },
          "metadata": {
            "tags": [],
            "needs_background": "light"
          }
        },
        {
          "output_type": "stream",
          "text": [
            "parameters \n",
            " {'Wax': array([[ 1.34900226],\n",
            "       [-0.73685611],\n",
            "       [-0.4994763 ]]), 'Waa': array([[-0.21765679,  0.28730629, -0.0732076 ],\n",
            "       [-0.07539149,  0.1020431 ,  0.05685462],\n",
            "       [ 0.55213335, -0.19226929,  0.46312225]]), 'Wya': array([[0.86601963, 0.02575513, 0.94937045]]), 'b': array([[-0.30366034],\n",
            "       [ 0.07215076],\n",
            "       [ 0.48521089]]), 'by': array([[-0.22898916]])} \n",
            "\n",
            "final gradients \n",
            " {'dWaa': array([[ 2.40279097e-05, -1.63424969e-05, -3.74645604e-05],\n",
            "       [-2.22193379e-04, -1.04199754e-04,  1.11919808e-05],\n",
            "       [-4.52189003e-04,  1.78634284e-04, -4.38768097e-04]]), 'dWax': array([[ 6.44317945e-05],\n",
            "       [-1.40408501e-04],\n",
            "       [ 1.63109887e-04]]), 'dWya': array([[ 1.26481732e-04, -1.96021131e-05,  5.73347769e-06]]), 'db': array([[-1.81034597e-04],\n",
            "       [-3.07667876e-04],\n",
            "       [ 2.00723805e-05]]), 'dby': array([[0.00037942]])} \n",
            "\n"
          ],
          "name": "stdout"
        }
      ]
    },
    {
      "cell_type": "code",
      "metadata": {
        "id": "oYb2Qr070yDp",
        "colab_type": "code",
        "outputId": "a10d7325-b01a-4305-f618-d17be22d5da8",
        "colab": {
          "base_uri": "https://localhost:8080/",
          "height": 1000
        }
      },
      "source": [
        "parameters = model(X, Y, num_iterations=20000, n_a=5, learning_rate=0.01, print_chart=True)"
      ],
      "execution_count": 0,
      "outputs": [
        {
          "output_type": "stream",
          "text": [
            "Iteration: 0, Loss: 14.711017\n",
            "Iteration: 1000, Loss: 0.109919\n",
            "Iteration: 2000, Loss: 0.026315\n",
            "Iteration: 3000, Loss: 0.008316\n",
            "Iteration: 4000, Loss: 0.004150\n",
            "Iteration: 5000, Loss: 0.003061\n",
            "Iteration: 6000, Loss: 0.002544\n",
            "Iteration: 7000, Loss: 0.002255\n",
            "Iteration: 8000, Loss: 0.001981\n",
            "Iteration: 9000, Loss: 0.001961\n",
            "Iteration: 10000, Loss: 0.004137\n",
            "Iteration: 11000, Loss: 0.002677\n",
            "Iteration: 12000, Loss: 0.002578\n",
            "Iteration: 13000, Loss: 0.002333\n",
            "Iteration: 14000, Loss: 0.002058\n",
            "Iteration: 15000, Loss: 0.001870\n",
            "Iteration: 16000, Loss: 0.001792\n",
            "Iteration: 17000, Loss: 0.001729\n",
            "Iteration: 18000, Loss: 0.001560\n",
            "Iteration: 19000, Loss: 0.001405\n",
            "\n"
          ],
          "name": "stdout"
        },
        {
          "output_type": "display_data",
          "data": {
            "image/png": "[encoded data removed]",
            "text/plain": [
              "<Figure size 432x288 with 1 Axes>"
            ]
          },
          "metadata": {
            "tags": [],
            "needs_background": "light"
          }
        },
        {
          "output_type": "stream",
          "text": [
            "parameters \n",
            " {'Wax': array([[-0.17454054],\n",
            "       [ 0.0927642 ],\n",
            "       [-0.44468594],\n",
            "       [-1.23478744],\n",
            "       [-0.21025144]]), 'Waa': array([[ 0.04409161,  0.01661015,  0.11811653,  0.01918145,  0.12175007],\n",
            "       [ 0.00788561, -0.04766717, -0.14583815, -0.0353004 , -0.04508955],\n",
            "       [ 0.04610394, -0.01213417,  0.27898948, -0.64756391,  0.13394461],\n",
            "       [-0.01548638, -0.05562032,  0.14312726, -0.3286391 , -0.05607384],\n",
            "       [ 0.12827181, -0.05774572,  0.04993925, -0.06394231,  0.17399315]]), 'Wya': array([[ 0.3144561 , -0.15239749,  0.86008963, -1.02160919,  0.3852175 ]]), 'b': array([[0.00457372],\n",
            "       [0.04746183],\n",
            "       [0.52861255],\n",
            "       [0.45636914],\n",
            "       [0.12039091]]), 'by': array([[0.01697556]])} \n",
            "\n",
            "final gradients \n",
            " {'dWaa': array([[ 0.01234787, -0.00792215, -0.02134841,  0.03511974,  0.00899256],\n",
            "       [-0.00489345,  0.00307992,  0.00707829, -0.01358847, -0.00382842],\n",
            "       [ 0.03315268, -0.02093335, -0.04760496,  0.09245148,  0.02585993],\n",
            "       [-0.01117015,  0.0076552 ,  0.03320498, -0.03307339, -0.00573411],\n",
            "       [ 0.01916777, -0.01231554, -0.0336044 ,  0.05496186,  0.01386259]]), 'dWax': array([[-0.08249929],\n",
            "       [ 0.0313802 ],\n",
            "       [-0.21304675],\n",
            "       [ 0.08629885],\n",
            "       [-0.12861426]]), 'dWya': array([[ 0.03305952, -0.02075483, -0.04334653,  0.09079062,  0.02644382]]), 'db': array([[-0.05998487],\n",
            "       [ 0.02050747],\n",
            "       [-0.13917154],\n",
            "       [ 0.08307431],\n",
            "       [-0.09430771]]), 'dby': array([[-0.13503533]])} \n",
            "\n"
          ],
          "name": "stdout"
        }
      ]
    },
    {
      "cell_type": "markdown",
      "metadata": {
        "id": "gHpkfJJQciKf",
        "colab_type": "text"
      },
      "source": [
        "### 2. Create training data with multiple examples"
      ]
    },
    {
      "cell_type": "code",
      "metadata": {
        "id": "wrse5Gj09Tcq",
        "colab_type": "code",
        "outputId": "76268019-a860-4e3a-e92e-6c96a2d18f7d",
        "colab": {
          "base_uri": "https://localhost:8080/",
          "height": 281
        }
      },
      "source": [
        "T_x = 25\n",
        "m = 100\n",
        "\n",
        "X = np.zeros((T_x, m))\n",
        "\n",
        "for col in range(X.shape[1]):\n",
        "  r = np.random.randint(1, 20)\n",
        "  #r = 1\n",
        "  X[:, col] = [x/10.0 for x in range(r, r + T_x)]\n",
        "\n",
        "# X = X/X.max()\n",
        "\n",
        "# Y = X * 4 np.sin(X)\n",
        "Y = X * 4\n",
        "\n",
        "plt.figure()\n",
        "plt.title('X and Y')\n",
        "plt.plot(X[:, 0], label='x')\n",
        "plt.plot(Y[:, 0], label='y')\n",
        "plt.legend()\n",
        "plt.show()"
      ],
      "execution_count": 31,
      "outputs": [
        {
          "output_type": "display_data",
          "data": {
            "image/png": "[encoded data removed]",
            "text/plain": [
              "<Figure size 432x288 with 1 Axes>"
            ]
          },
          "metadata": {
            "tags": [],
            "needs_background": "light"
          }
        }
      ]
    },
    {
      "cell_type": "markdown",
      "metadata": {
        "id": "zgfW6oS0BVoW",
        "colab_type": "text"
      },
      "source": [
        "#### 2.2 Run models with multiple examples"
      ]
    },
    {
      "cell_type": "code",
      "metadata": {
        "id": "2K2ecZxx7Cc6",
        "colab_type": "code",
        "outputId": "50178b25-965d-49c7-e6a4-8235d3768fa6",
        "colab": {
          "base_uri": "https://localhost:8080/",
          "height": 835
        }
      },
      "source": [
        "parameters = model(X, Y, num_iterations=20000, n_a=2, learning_rate=0.0001, print_chart=True, grad_max=5, print_grad_updates=False, update_n=1000)"
      ],
      "execution_count": 35,
      "outputs": [
        {
          "output_type": "stream",
          "text": [
            "Iteration: 0, Loss: 220179.952316\n",
            "Iteration: 1000, Loss: 160328.040967\n",
            "Iteration: 2000, Loss: 112049.545208\n",
            "Iteration: 3000, Loss: 75380.607693\n",
            "Iteration: 4000, Loss: 49962.170182\n",
            "Iteration: 5000, Loss: 35701.422373\n",
            "Iteration: 6000, Loss: 26905.297512\n",
            "Iteration: 7000, Loss: 10692.491015\n",
            "Iteration: 8000, Loss: 4309.007848\n",
            "Iteration: 9000, Loss: 5107.775602\n",
            "Iteration: 10000, Loss: 7597.923765\n",
            "Iteration: 11000, Loss: 7623.249426\n",
            "Iteration: 12000, Loss: 7722.198341\n",
            "Iteration: 13000, Loss: 7420.333394\n",
            "Iteration: 14000, Loss: 6961.010280\n",
            "Iteration: 15000, Loss: 6441.781668\n",
            "Iteration: 16000, Loss: 6380.477219\n",
            "Iteration: 17000, Loss: 6691.743100\n",
            "Iteration: 18000, Loss: 6969.568270\n",
            "Iteration: 19000, Loss: 6863.953655\n",
            "\n"
          ],
          "name": "stdout"
        },
        {
          "output_type": "display_data",
          "data": {
            "image/png": "[encoded data removed]",
            "text/plain": [
              "<Figure size 432x288 with 1 Axes>"
            ]
          },
          "metadata": {
            "tags": [],
            "needs_background": "light"
          }
        },
        {
          "output_type": "stream",
          "text": [
            "parameters \n",
            " {'Wax': array([[ 3.04385748],\n",
            "       [-2.02244417]]), 'Waa': array([[ 0.59027813, -1.15993538],\n",
            "       [ 2.83684187,  3.4558549 ]]), 'Wya': array([[3.29832153, 0.87820057]]), 'b': array([[-5.9227659 ],\n",
            "       [ 4.37663459]]), 'by': array([[7.84849671]])} \n",
            "\n",
            "final gradients \n",
            " {'dWaa': array([[-5.,  5.],\n",
            "       [ 5., -5.]]), 'dWax': array([[5.],\n",
            "       [5.]]), 'dWya': array([[ 2.33165535, -0.36796197]]), 'db': array([[5.],\n",
            "       [5.]]), 'dby': array([[2.72649906]])} \n",
            "\n"
          ],
          "name": "stdout"
        }
      ]
    }
  ]
}