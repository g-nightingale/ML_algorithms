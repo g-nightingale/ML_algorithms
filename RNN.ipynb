{
  "nbformat": 4,
  "nbformat_minor": 0,
  "metadata": {
    "colab": {
      "name": "RNN.ipynb",
      "provenance": [],
      "collapsed_sections": [],
      "authorship_tag": "ABX9TyNG5J6Ql5Jdg4gH27MBcuIq",
      "include_colab_link": true
    },
    "kernelspec": {
      "name": "python3",
      "display_name": "Python 3"
    }
  },
  "cells": [
    {
      "cell_type": "markdown",
      "metadata": {
        "id": "view-in-github",
        "colab_type": "text"
      },
      "source": [
        "<a href=\"https://colab.research.google.com/github/g-nightingale/ML_algorithms/blob/master/RNN.ipynb\" target=\"_parent\"><img src=\"https://colab.research.google.com/assets/colab-badge.svg\" alt=\"Open In Colab\"/></a>"
      ]
    },
    {
      "cell_type": "markdown",
      "metadata": {
        "id": "Ny-RkwO1K8vT",
        "colab_type": "text"
      },
      "source": [
        "##Vanilla RNN from scratch <br>\n",
        "Author: Geoff Nightingale <br>\n",
        "Date: 13/05/2020 <br>\n",
        "Useful links:\n",
        "- https://github.com/Kulbear/deep-learning-coursera/blob/master/Sequence%20Models/Building%20a%20Recurrent%20Neural%20Network%20-%20Step%20by%20Step%20-%20v2.ipynb\n",
        "- https://www.coursera.org/learn/nlp-sequence-models/discussions/weeks/1/threads/Ma0W1RBdEeiM0AqkY8EcsA"
      ]
    },
    {
      "cell_type": "markdown",
      "metadata": {
        "id": "BJq_6_7AzBFV",
        "colab_type": "text"
      },
      "source": [
        "### RNN Training Process Overview\n",
        "- Parameter initialisation\n",
        "  - Optimisation Loop\n",
        "      - Forward Pass\n",
        "          - For each time step\n",
        "              - Calculation activation at timestep t\n",
        "              - Cache predictions and activations\n",
        "              - Accumulate losses: losses += (y hat - y)^2\n",
        "      - Backwards Pass\n",
        "          - Retrieve cache and parameters\n",
        "          - Set gradients to zero\n",
        "          - For each time step\n",
        "              - Calculate gradients\n",
        "              - Update gradients\n",
        "      - Update parameters\n",
        "          - weight = weight + lr * partial derivatives\n"
      ]
    },
    {
      "cell_type": "code",
      "metadata": {
        "id": "iNdtNHpMLPOj",
        "colab_type": "code",
        "colab": {}
      },
      "source": [
        "import numpy as np\n",
        "import matplotlib.pyplot as plt\n",
        "\n",
        "np.random.seed(42)"
      ],
      "execution_count": 0,
      "outputs": []
    },
    {
      "cell_type": "code",
      "metadata": {
        "id": "XUEvhWqiLKjb",
        "colab_type": "code",
        "colab": {}
      },
      "source": [
        "# Checking some calculations\n",
        "\n",
        "m = 5\n",
        "n_x = 1\n",
        "n_y = 1\n",
        "n_a = 3\n",
        "T_x = 10\n",
        "\n",
        "xt = np.random.randn(n_x, m)\n",
        "a_prev = np.random.randn(n_a, m)\n",
        "\n",
        "Wax = np.random.randn(n_a, n_x)\n",
        "Waa = np.random.randn(n_a, n_a)\n",
        "Wya = np.random.randn(n_y, n_a)\n",
        "ba = np.random.randn(n_a, 1)\n",
        "by = np.random.randn(n_y, 1)\n",
        "\n",
        "parameters = {\"Waa\": Waa, \"Wax\": Wax, \"Wya\": Wya, \"ba\": ba, \"by\": by}\n"
      ],
      "execution_count": 0,
      "outputs": []
    },
    {
      "cell_type": "code",
      "metadata": {
        "id": "WK6N4m6LLNi9",
        "colab_type": "code",
        "outputId": "4f19cb5d-dc83-4899-b70d-c1a5941be11e",
        "colab": {
          "base_uri": "https://localhost:8080/",
          "height": 67
        }
      },
      "source": [
        "# Checking activation function calculation\n",
        "# (3 x 1)(1 x m) + (3 x 3)(3 x m) + (3 x m)\n",
        "z = np.dot(Wax,xt) + np.dot(Waa,a_prev) + ba\n",
        "z"
      ],
      "execution_count": 0,
      "outputs": [
        {
          "output_type": "execute_result",
          "data": {
            "text/plain": [
              "array([[ 0.03065724, -3.53228177, -1.46182393,  2.62110229, -1.55468261],\n",
              "       [ 0.52983398, -1.1442116 , -0.91852593,  0.23194035, -0.16251721],\n",
              "       [-2.62050306, -4.02546569, -1.70330561, -2.25055972, -3.71182833]])"
            ]
          },
          "metadata": {
            "tags": []
          },
          "execution_count": 4
        }
      ]
    },
    {
      "cell_type": "code",
      "metadata": {
        "id": "Xo1sDE6ZGFNX",
        "colab_type": "code",
        "outputId": "f822cf40-969e-47e2-b965-717a52db1015",
        "colab": {
          "base_uri": "https://localhost:8080/",
          "height": 34
        }
      },
      "source": [
        "# Verifying tanh function\n",
        "c = -0.04859525\n",
        "tanh_gn = (np.exp(c) - np.exp(-c))/(np.exp(c) + np.exp(-c))\n",
        "tanh_gn"
      ],
      "execution_count": 0,
      "outputs": [
        {
          "output_type": "execute_result",
          "data": {
            "text/plain": [
              "-0.04855703356502644"
            ]
          },
          "metadata": {
            "tags": []
          },
          "execution_count": 5
        }
      ]
    },
    {
      "cell_type": "markdown",
      "metadata": {
        "id": "vBBGLUeNjg8M",
        "colab_type": "text"
      },
      "source": [
        "# New Method"
      ]
    },
    {
      "cell_type": "code",
      "metadata": {
        "id": "91ROGgLgNIea",
        "colab_type": "code",
        "outputId": "3983e284-5be5-44e8-ce9d-7e40b4e730d9",
        "colab": {
          "base_uri": "https://localhost:8080/",
          "height": 281
        }
      },
      "source": [
        "X = np.array([x/10.0 for x in range(25)])\n",
        "Y = np.sin(X)\n",
        "\n",
        "plt.figure()\n",
        "plt.title('X and Y')\n",
        "plt.plot(X, label='x')\n",
        "plt.plot(Y, label='y')\n",
        "plt.legend()\n",
        "plt.show()"
      ],
      "execution_count": 0,
      "outputs": [
        {
          "output_type": "display_data",
          "data": {
            "image/png": "[encoded data removed]",
            "text/plain": [
              "<Figure size 432x288 with 1 Axes>"
            ]
          },
          "metadata": {
            "tags": [],
            "needs_background": "light"
          }
        }
      ]
    },
    {
      "cell_type": "code",
      "metadata": {
        "id": "yaJOKJBqWbGM",
        "colab_type": "code",
        "colab": {}
      },
      "source": [
        "### New codes"
      ],
      "execution_count": 0,
      "outputs": []
    },
    {
      "cell_type": "code",
      "metadata": {
        "id": "KyGvDQidT5Yo",
        "colab_type": "code",
        "colab": {}
      },
      "source": [
        "def initialize_parameters(n_a, n_x, n_y):\n",
        "    \"\"\"\n",
        "    Initialize parameters with small random values\n",
        "    \n",
        "    Returns:\n",
        "    parameters -- python dictionary containing:\n",
        "                        Wax -- Weight matrix multiplying the input, numpy array of shape (n_a, n_x)\n",
        "                        Waa -- Weight matrix multiplying the hidden state, numpy array of shape (n_a, n_a)\n",
        "                        Wya -- Weight matrix relating the hidden-state to the output, numpy array of shape (n_y, n_a)\n",
        "                        b --  Bias, numpy array of shape (n_a, 1)\n",
        "                        by -- Bias relating the hidden-state to the output, numpy array of shape (n_y, 1)\n",
        "    \"\"\"\n",
        "    np.random.seed(1)\n",
        "    Wax = np.random.randn(n_a, n_x)*0.01 # input to hidden\n",
        "    Waa = np.random.randn(n_a, n_a)*0.01 # hidden to hidden\n",
        "    Wya = np.random.randn(n_y, n_a)*0.01 # hidden to output\n",
        "    b = np.zeros((n_a, 1)) # hidden bias\n",
        "    by = np.zeros((n_y, 1)) # output bias\n",
        "    \n",
        "    parameters = {\"Wax\": Wax, \"Waa\": Waa, \"Wya\": Wya, \"b\": b,\"by\": by}\n",
        "    \n",
        "    return parameters\n"
      ],
      "execution_count": 0,
      "outputs": []
    },
    {
      "cell_type": "code",
      "metadata": {
        "id": "TIOVxrkVWGr8",
        "colab_type": "code",
        "colab": {}
      },
      "source": [
        "def rnn_step_forward(parameters, a_prev, x):\n",
        "    \n",
        "    Waa, Wax, Wya, by, b = parameters['Waa'], parameters['Wax'], parameters['Wya'], parameters['by'], parameters['b']\n",
        "    a_next = np.tanh(np.dot(Wax, x) + np.dot(Waa, a_prev) + b) # hidden state\n",
        "    p_t = np.dot(Wya, a_next) + by\n",
        "    #p_t = softmax(np.dot(Wya, a_next) + by) # unnormalized log probabilities for next chars # probabilities for next chars \n",
        "    \n",
        "    return a_next, p_t"
      ],
      "execution_count": 0,
      "outputs": []
    },
    {
      "cell_type": "code",
      "metadata": {
        "id": "XQ7qz5_uWItG",
        "colab_type": "code",
        "colab": {}
      },
      "source": [
        "def rnn_step_backward(dy, gradients, parameters, x, a, a_prev):\n",
        "\n",
        "    gradients['dWya'] += np.dot(dy, a.T)\n",
        "\n",
        "    if dy.ndim == 1:\n",
        "        dy_sum = np.sum(dy)\n",
        "    else:\n",
        "        dy_sum = np.sum(dy, axis=1, keepdims=True)\n",
        "\n",
        "    gradients['dby'] += dy_sum\n",
        "    da = np.dot(parameters['Wya'].T, dy_sum) + gradients['da_next'] # backprop into h\n",
        "    daraw = (1 - a ** 2) * da\n",
        " \n",
        "    # print('daraw', daraw.shape)\n",
        "    # print('x', x.shape)\n",
        "\n",
        "    # daraw_og = (1 - a * a) * da \n",
        "    # daraw_new = np.dot(da, (1 - a * a))\n",
        "    # print('daraw_og', daraw_og)\n",
        "    # print('daraw_new', daraw_new)\n",
        "    # print('grads', gradients['db'] += daraw_wtf)\n",
        "\n",
        "    gradients['db'] += np.sum(daraw, axis=1, keepdims=True)\n",
        "    gradients['dWax'] += np.dot(daraw, x.T)\n",
        "    gradients['dWaa'] += np.dot(daraw, a_prev.T)\n",
        "    gradients['da_next'] = np.dot(parameters['Waa'].T, daraw)\n",
        "\n",
        "    return gradients"
      ],
      "execution_count": 0,
      "outputs": []
    },
    {
      "cell_type": "code",
      "metadata": {
        "id": "FabzBrXrWLH_",
        "colab_type": "code",
        "colab": {}
      },
      "source": [
        "def update_parameters(parameters, gradients, lr, print_grad_updates=False):\n",
        "\n",
        "    if print_grad_updates is True:\n",
        "        print('Wax before', parameters['Wax'])\n",
        "        print('Waa before', parameters['Waa'])\n",
        "        print('Wya before', parameters['Wya'])\n",
        "        print('b before', parameters['b'])\n",
        "        print('by before', parameters['by'], '\\n')\n",
        "\n",
        "        print('dWax', gradients['dWax'])\n",
        "        print('dWaa', gradients['dWaa'])\n",
        "        print('dWya', gradients['dWya'])\n",
        "        print('db', gradients['db'])\n",
        "        print('dby', gradients['dby'], '\\n')\n",
        "\n",
        "    parameters['Wax'] += -lr * gradients['dWax']\n",
        "    parameters['Waa'] += -lr * gradients['dWaa']\n",
        "    parameters['Wya'] += -lr * gradients['dWya']\n",
        "    parameters['b']  += -lr * gradients['db']\n",
        "    parameters['by']  += -lr * gradients['dby']\n",
        "\n",
        "    if print_grad_updates is True:\n",
        "        print('Wax after', parameters['Wax'])\n",
        "        print('Waa after', parameters['Waa'])\n",
        "        print('Wya after', parameters['Wya'])\n",
        "        print('b after', parameters['b'])\n",
        "        print('by after', parameters['by'], '\\n')\n",
        "\n",
        "    return parameters"
      ],
      "execution_count": 0,
      "outputs": []
    },
    {
      "cell_type": "code",
      "metadata": {
        "id": "C8XNPhwbWNNp",
        "colab_type": "code",
        "colab": {}
      },
      "source": [
        "def rnn_forward(X, Y, a0, parameters):\n",
        "    \n",
        "    # Initialize x, a and y_hat as empty dictionaries\n",
        "    x, a, y_hat = {}, {}, {}\n",
        "    \n",
        "    a[-1] = np.copy(a0)\n",
        "    \n",
        "    # initialize your loss to 0\n",
        "    loss = 0\n",
        "    \n",
        "    for t in range(len(X)):\n",
        "\n",
        "        # Run one step forward of the RNN\n",
        "        # TODO: adjust for varying m\n",
        "        if X.ndim == 1:\n",
        "            x = X[t]\n",
        "        else:\n",
        "            x = X[t].reshape((1, X.shape[1]))\n",
        "\n",
        "        a[t], y_hat[t] = rnn_step_forward(parameters, a[t-1], x)\n",
        "\n",
        "        #print(y_hat[t], Y[t])\n",
        "        \n",
        "        # Update the loss by substracting the cross-entropy term of this time-step from it.\n",
        "        #loss -= np.log(y_hat[t][Y[t],0])\n",
        "        # Using sqaured error in place of cross entropy\n",
        "\n",
        "        loss += np.sum((y_hat[t] - Y[t])**2)\n",
        "        # print('x', x)\n",
        "        # print('y_hat', y_hat)\n",
        "        # print('y', Y)       \n",
        "        # print(stop)\n",
        "\n",
        "    cache = (y_hat, a, x)\n",
        "    \n",
        "    return loss, cache\n"
      ],
      "execution_count": 0,
      "outputs": []
    },
    {
      "cell_type": "code",
      "metadata": {
        "id": "P5k6G6O2xpaA",
        "colab_type": "code",
        "colab": {}
      },
      "source": [
        "def clip(gradients, maxValue):\n",
        "    \"\"\"\n",
        "    Clips the gradients' values between minimum and maximum.\n",
        "    \n",
        "    Arguments:\n",
        "    gradients -- a dictionary containing the gradients \"dWaa\", \"dWax\", \"dWya\", \"db\", \"dby\"\n",
        "    maxValue -- everything above this number is set to this number, and everything less than -maxValue is set to -maxValue\n",
        "    \n",
        "    Returns: \n",
        "    gradients -- a dictionary with the clipped gradients.\n",
        "    \"\"\"\n",
        "    \n",
        "    dWaa, dWax, dWya, db, dby = gradients['dWaa'], gradients['dWax'], gradients['dWya'], gradients['db'], gradients['dby']\n",
        "   \n",
        "    ### START CODE HERE ###\n",
        "    # clip to mitigate exploding gradients, loop over [dWax, dWaa, dWya, db, dby]. (≈2 lines)\n",
        "    for gradient in [dWax, dWaa, dWya, db, dby]:\n",
        "        np.clip(gradient, -maxValue, maxValue, out = gradient)\n",
        "    ### END CODE HERE ###\n",
        "    \n",
        "    gradients = {\"dWaa\": dWaa, \"dWax\": dWax, \"dWya\": dWya, \"db\": db, \"dby\": dby}\n",
        "    \n",
        "    return gradients"
      ],
      "execution_count": 0,
      "outputs": []
    },
    {
      "cell_type": "code",
      "metadata": {
        "id": "XTymPhXRWQDU",
        "colab_type": "code",
        "colab": {}
      },
      "source": [
        "def rnn_backward(X, Y, parameters, cache):\n",
        "    # Initialize gradients as an empty dictionary\n",
        "    gradients = {}\n",
        "    \n",
        "    # Retrieve from cache and parameters\n",
        "    (y_hat, a, x) = cache\n",
        "    Waa, Wax, Wya, by, b = parameters['Waa'], parameters['Wax'], parameters['Wya'], parameters['by'], parameters['b']\n",
        "    \n",
        "    # each one should be initialized to zeros of the same dimension as its corresponding parameter\n",
        "    gradients['dWax'], gradients['dWaa'], gradients['dWya'] = np.zeros_like(Wax), np.zeros_like(Waa), np.zeros_like(Wya)\n",
        "    gradients['db'], gradients['dby'] = np.zeros_like(b), np.zeros_like(by)\n",
        "    gradients['da_next'] = np.zeros_like(a[0])\n",
        "\n",
        "    ### START CODE HERE ###\n",
        "    # Backpropagate through time\n",
        "    for t in reversed(range(len(X))):\n",
        "        dy = y_hat[t] - Y[t]\n",
        "        #dy[Y[t]] -= 1\n",
        "\n",
        "        if X.ndim == 1:\n",
        "            x = X[t]\n",
        "        else:\n",
        "            x = X[t].reshape((1, X.shape[1]))\n",
        "\n",
        "        gradients = rnn_step_backward(dy, gradients, parameters, x, a[t], a[t-1])\n",
        "    ### END CODE HERE ###\n",
        "    \n",
        "    return gradients, a    \n"
      ],
      "execution_count": 0,
      "outputs": []
    },
    {
      "cell_type": "code",
      "metadata": {
        "id": "hiMF69mliGqV",
        "colab_type": "code",
        "colab": {}
      },
      "source": [
        "def optimize(X, Y, a_prev, parameters, learning_rate=0.01, grad_max=100, print_grad_updates=False):\n",
        "    \"\"\"\n",
        "    Execute one step of the optimization to train the model.\n",
        "    \n",
        "    Arguments:\n",
        "    X -- list of integers, where each integer is a number that maps to a character in the vocabulary.\n",
        "    Y -- list of integers, exactly the same as X but shifted one index to the left.\n",
        "    a_prev -- previous hidden state.\n",
        "    parameters -- python dictionary containing:\n",
        "                        Wax -- Weight matrix multiplying the input, numpy array of shape (n_a, n_x)\n",
        "                        Waa -- Weight matrix multiplying the hidden state, numpy array of shape (n_a, n_a)\n",
        "                        Wya -- Weight matrix relating the hidden-state to the output, numpy array of shape (n_y, n_a)\n",
        "                        b --  Bias, numpy array of shape (n_a, 1)\n",
        "                        by -- Bias relating the hidden-state to the output, numpy array of shape (n_y, 1)\n",
        "    learning_rate -- learning rate for the model.\n",
        "    \n",
        "    Returns:\n",
        "    loss -- value of the loss function (cross-entropy)\n",
        "    gradients -- python dictionary containing:\n",
        "                        dWax -- Gradients of input-to-hidden weights, of shape (n_a, n_x)\n",
        "                        dWaa -- Gradients of hidden-to-hidden weights, of shape (n_a, n_a)\n",
        "                        dWya -- Gradients of hidden-to-output weights, of shape (n_y, n_a)\n",
        "                        db -- Gradients of bias vector, of shape (n_a, 1)\n",
        "                        dby -- Gradients of output bias vector, of shape (n_y, 1)\n",
        "    a[len(X)-1] -- the last hidden state, of shape (n_a, 1)\n",
        "    \"\"\"\n",
        "    \n",
        "    ### START CODE HERE ###\n",
        "    \n",
        "    # Forward propagate through time (≈1 line)\n",
        "    loss, cache = rnn_forward(X, Y, a_prev, parameters)\n",
        "    \n",
        "    # Backpropagate through time (≈1 line)\n",
        "    gradients, a = rnn_backward(X, Y, parameters, cache)\n",
        "\n",
        "    # Clip your gradients between -5 (min) and 5 (max) (≈1 line)\n",
        "    gradients = clip(gradients, grad_max)\n",
        "    \n",
        "    # Update parameters (≈1 line)\n",
        "    parameters = update_parameters(parameters, gradients, learning_rate, print_grad_updates=print_grad_updates)\n",
        "    \n",
        "    ### END CODE HERE ###\n",
        "    \n",
        "    return loss, gradients, a[len(X)-1]"
      ],
      "execution_count": 0,
      "outputs": []
    },
    {
      "cell_type": "code",
      "metadata": {
        "id": "Phxj4iNEWStm",
        "colab_type": "code",
        "colab": {}
      },
      "source": [
        "def model(X, Y, num_iterations=10, n_a=3, learning_rate=0.01, print_chart=False, grad_max=100, print_grad_updates=False, update_n=1000):\n",
        "    \"\"\"\n",
        "    Trains the model and generates dinosaur names. \n",
        "    \n",
        "    Arguments:  \n",
        "    data -- text corpus\n",
        "    ix_to_char -- dictionary that maps the index to a character\n",
        "    char_to_ix -- dictionary that maps a character to an index\n",
        "    num_iterations -- number of iterations to train the model for\n",
        "    n_a -- number of units of the RNN cell\n",
        "    dino_names -- number of dinosaur names you want to sample at each iteration. \n",
        "    vocab_size -- number of unique characters found in the text, size of the vocabulary\n",
        "    \n",
        "    Returns:\n",
        "    parameters -- learned parameters\n",
        "    \"\"\"\n",
        "    \n",
        "    # Retrieve n_x and n_y from vocab_size\n",
        "    if X.ndim == 1:\n",
        "        m = 1\n",
        "    else:\n",
        "      m = X.shape[1] # Training examples\n",
        "    n_x = 1\n",
        "    n_y = 1\n",
        "\n",
        "    # Initialize parameters\n",
        "    parameters = initialize_parameters(n_a, n_x, n_y)\n",
        "    \n",
        "    # Initialize the hidden state of your LSTM\n",
        "    a_prev = np.zeros((n_a, m))\n",
        "\n",
        "    # Optimization loop\n",
        "    for j in range(num_iterations):\n",
        "        \n",
        "        # Perform one optimization step: Forward-prop -> Backward-prop -> Clip -> Update parameters\n",
        "        # Choose a learning rate of 0.01\n",
        "        #curr_loss, gradients, a_prev = optimize(X, Y, a_prev, parameters, learning_rate=0.01)\n",
        "        loss, gradients, a_prev = optimize(X, Y, a_prev, parameters, learning_rate=learning_rate, grad_max=grad_max, print_grad_updates=print_grad_updates)     \n",
        "        ### END CODE HERE ###\n",
        "\n",
        "        # if j<=2:\n",
        "        #     print('gradients: iteration', j, '\\n', gradients, '\\n')\n",
        "\n",
        "        # Every Z iterations, generate \"n\" characters thanks to sample() to check if the model is learning properly\n",
        "        if j % update_n == 0:\n",
        "            print('Iteration: %d, Loss: %f' % (j, loss))\n",
        "            # print('parameters', '\\n', parameters)\n",
        "            # print('final gradients', '\\n', gradients, '\\n')\n",
        "\n",
        "    # Print chart of actual vs expected\n",
        "    if print_chart is True:\n",
        "        print()\n",
        "        if X.ndim == 1:\n",
        "          loss, cache = rnn_forward(X, Y, a_prev, parameters)\n",
        "        else:\n",
        "          loss, cache = rnn_forward(X[:, 0], Y[:, 0], a_prev, parameters)\n",
        "\n",
        "        preds = []\n",
        "        for l in range(len(cache[0])):\n",
        "          preds.append(cache[0][l][0][0])\n",
        "\n",
        "        plt.title('Actual vs Expected')\n",
        "        if X.ndim == 1:\n",
        "          plt.plot(Y, label='y actual')\n",
        "        else:\n",
        "          plt.plot(Y[:, 0], label='y actual')\n",
        "\n",
        "        plt.plot(preds, label='y pred')\n",
        "        plt.legend()\n",
        "        plt.show()\n",
        "\n",
        "\n",
        "    print('parameters', '\\n', parameters, '\\n')\n",
        "    print('final gradients', '\\n', gradients, '\\n')\n",
        "     \n",
        "    return parameters\n"
      ],
      "execution_count": 0,
      "outputs": []
    },
    {
      "cell_type": "markdown",
      "metadata": {
        "id": "_IMP2woUH48K",
        "colab_type": "text"
      },
      "source": [
        "#### Run models"
      ]
    },
    {
      "cell_type": "code",
      "metadata": {
        "id": "o1qwAZpJ1aUM",
        "colab_type": "code",
        "outputId": "ba76af92-c938-4847-8727-76e081966117",
        "colab": {
          "base_uri": "https://localhost:8080/",
          "height": 734
        }
      },
      "source": [
        "parameters = model(X, Y, num_iterations=20000, n_a=1, learning_rate=0.01, print_chart=True)"
      ],
      "execution_count": 0,
      "outputs": [
        {
          "output_type": "stream",
          "text": [
            "Iteration: 0, Loss: 14.714538\n",
            "Iteration: 1000, Loss: 0.171223\n",
            "Iteration: 2000, Loss: 0.167507\n",
            "Iteration: 3000, Loss: 0.164070\n",
            "Iteration: 4000, Loss: 0.160806\n",
            "Iteration: 5000, Loss: 0.157921\n",
            "Iteration: 6000, Loss: 0.155493\n",
            "Iteration: 7000, Loss: 0.153504\n",
            "Iteration: 8000, Loss: 0.151888\n",
            "Iteration: 9000, Loss: 0.150573\n",
            "Iteration: 10000, Loss: 0.149495\n",
            "Iteration: 11000, Loss: 0.148600\n",
            "Iteration: 12000, Loss: 0.147849\n",
            "Iteration: 13000, Loss: 0.147210\n",
            "Iteration: 14000, Loss: 0.146662\n",
            "Iteration: 15000, Loss: 0.146185\n",
            "Iteration: 16000, Loss: 0.145767\n",
            "Iteration: 17000, Loss: 0.145396\n",
            "Iteration: 18000, Loss: 0.145065\n",
            "Iteration: 19000, Loss: 0.144767\n",
            "\n"
          ],
          "name": "stdout"
        },
        {
          "output_type": "display_data",
          "data": {
            "image/png": "[encoded data removed]",
            "text/plain": [
              "<Figure size 432x288 with 1 Axes>"
            ]
          },
          "metadata": {
            "tags": [],
            "needs_background": "light"
          }
        },
        {
          "output_type": "stream",
          "text": [
            "parameters \n",
            " {'Wax': array([[2.44153161]]), 'Waa': array([[-0.14092471]]), 'Wya': array([[0.49279201]]), 'b': array([[-1.09257478]]), 'by': array([[0.41827476]])} \n",
            "\n",
            "final gradients \n",
            " {'dWaa': array([[0.00091566]]), 'dWax': array([[-0.00280607]]), 'dWya': array([[0.00022204]]), 'db': array([[0.00201676]]), 'dby': array([[-0.00020817]])} \n",
            "\n"
          ],
          "name": "stdout"
        }
      ]
    },
    {
      "cell_type": "code",
      "metadata": {
        "id": "bF1gwkcElrI1",
        "colab_type": "code",
        "outputId": "b032b644-131c-4a7f-b9e8-04d0ded1ea82",
        "colab": {
          "base_uri": "https://localhost:8080/",
          "height": 734
        }
      },
      "source": [
        "parameters = model(X, Y, num_iterations=20000, n_a=1, learning_rate=0.01, print_chart=True)"
      ],
      "execution_count": 0,
      "outputs": [
        {
          "output_type": "stream",
          "text": [
            "Iteration: 0, Loss: 14.714538\n",
            "Iteration: 1000, Loss: 0.171223\n",
            "Iteration: 2000, Loss: 0.167507\n",
            "Iteration: 3000, Loss: 0.164070\n",
            "Iteration: 4000, Loss: 0.160806\n",
            "Iteration: 5000, Loss: 0.157921\n",
            "Iteration: 6000, Loss: 0.155493\n",
            "Iteration: 7000, Loss: 0.153504\n",
            "Iteration: 8000, Loss: 0.151888\n",
            "Iteration: 9000, Loss: 0.150573\n",
            "Iteration: 10000, Loss: 0.149495\n",
            "Iteration: 11000, Loss: 0.148600\n",
            "Iteration: 12000, Loss: 0.147849\n",
            "Iteration: 13000, Loss: 0.147210\n",
            "Iteration: 14000, Loss: 0.146662\n",
            "Iteration: 15000, Loss: 0.146185\n",
            "Iteration: 16000, Loss: 0.145767\n",
            "Iteration: 17000, Loss: 0.145396\n",
            "Iteration: 18000, Loss: 0.145065\n",
            "Iteration: 19000, Loss: 0.144767\n",
            "\n"
          ],
          "name": "stdout"
        },
        {
          "output_type": "display_data",
          "data": {
            "image/png": "[encoded data removed]",
            "text/plain": [
              "<Figure size 432x288 with 1 Axes>"
            ]
          },
          "metadata": {
            "tags": [],
            "needs_background": "light"
          }
        },
        {
          "output_type": "stream",
          "text": [
            "parameters \n",
            " {'Wax': array([[2.44153161]]), 'Waa': array([[-0.14092471]]), 'Wya': array([[0.49279201]]), 'b': array([[-1.09257478]]), 'by': array([[0.41827476]])} \n",
            "\n",
            "final gradients \n",
            " {'dWaa': array([[0.00091566]]), 'dWax': array([[-0.00280607]]), 'dWya': array([[0.00022204]]), 'db': array([[0.00201676]]), 'dby': array([[-0.00020817]])} \n",
            "\n"
          ],
          "name": "stdout"
        }
      ]
    },
    {
      "cell_type": "code",
      "metadata": {
        "id": "d3BLkQOJxJGK",
        "colab_type": "code",
        "outputId": "82e895ba-a4d7-42a6-86a8-5fb599e27766",
        "colab": {
          "base_uri": "https://localhost:8080/",
          "height": 835
        }
      },
      "source": [
        "parameters = model(X, Y, num_iterations=20000, n_a=2, learning_rate=0.005, print_chart=True)"
      ],
      "execution_count": 0,
      "outputs": [
        {
          "output_type": "stream",
          "text": [
            "Iteration: 0, Loss: 14.693690\n",
            "Iteration: 1000, Loss: 0.183217\n",
            "Iteration: 2000, Loss: 0.122519\n",
            "Iteration: 3000, Loss: 0.067011\n",
            "Iteration: 4000, Loss: 0.030455\n",
            "Iteration: 5000, Loss: 0.014656\n",
            "Iteration: 6000, Loss: 0.008816\n",
            "Iteration: 7000, Loss: 0.006423\n",
            "Iteration: 8000, Loss: 0.005177\n",
            "Iteration: 9000, Loss: 0.004366\n",
            "Iteration: 10000, Loss: 0.003763\n",
            "Iteration: 11000, Loss: 0.003283\n",
            "Iteration: 12000, Loss: 0.002887\n",
            "Iteration: 13000, Loss: 0.002553\n",
            "Iteration: 14000, Loss: 0.002267\n",
            "Iteration: 15000, Loss: 0.002020\n",
            "Iteration: 16000, Loss: 0.001804\n",
            "Iteration: 17000, Loss: 0.001616\n",
            "Iteration: 18000, Loss: 0.001450\n",
            "Iteration: 19000, Loss: 0.001304\n",
            "\n"
          ],
          "name": "stdout"
        },
        {
          "output_type": "display_data",
          "data": {
            "image/png": "[encoded data removed]",
            "text/plain": [
              "<Figure size 432x288 with 1 Axes>"
            ]
          },
          "metadata": {
            "tags": [],
            "needs_background": "light"
          }
        },
        {
          "output_type": "stream",
          "text": [
            "parameters \n",
            " {'Wax': array([[ 1.27592187],\n",
            "       [-0.46356214]]), 'Waa': array([[-0.25904032, -0.19067935],\n",
            "       [ 0.44975041,  0.44969142]]), 'Wya': array([[0.90791755, 0.88015586]]), 'b': array([[-0.3505144],\n",
            "       [ 0.6349382]]), 'by': array([[-0.20434693]])} \n",
            "\n",
            "final gradients \n",
            " {'dWaa': array([[-5.72014116e-05,  1.02449533e-03],\n",
            "       [-1.16994797e-03, -1.21566523e-03]]), 'dWax': array([[0.00023797],\n",
            "       [0.00049813]]), 'dWya': array([[9.05835827e-05, 5.84280374e-04]]), 'db': array([[-0.00210678],\n",
            "       [-0.00085814]]), 'dby': array([[0.00169783]])} \n",
            "\n"
          ],
          "name": "stdout"
        }
      ]
    },
    {
      "cell_type": "code",
      "metadata": {
        "id": "oCNHMcXh0OWL",
        "colab_type": "code",
        "outputId": "2786b4b7-1947-418d-ebe4-be67624ec1bf",
        "colab": {
          "base_uri": "https://localhost:8080/",
          "height": 936
        }
      },
      "source": [
        "parameters = model(X, Y, num_iterations=20000, n_a=3, learning_rate=0.01, print_chart=True)"
      ],
      "execution_count": 0,
      "outputs": [
        {
          "output_type": "stream",
          "text": [
            "Iteration: 0, Loss: 14.714762\n",
            "Iteration: 1000, Loss: 0.144306\n",
            "Iteration: 2000, Loss: 0.039127\n",
            "Iteration: 3000, Loss: 0.006697\n",
            "Iteration: 4000, Loss: 0.003492\n",
            "Iteration: 5000, Loss: 0.002626\n",
            "Iteration: 6000, Loss: 0.002068\n",
            "Iteration: 7000, Loss: 0.001665\n",
            "Iteration: 8000, Loss: 0.001278\n",
            "Iteration: 9000, Loss: 0.001007\n",
            "Iteration: 10000, Loss: 0.000793\n",
            "Iteration: 11000, Loss: 0.000626\n",
            "Iteration: 12000, Loss: 0.000494\n",
            "Iteration: 13000, Loss: 0.000391\n",
            "Iteration: 14000, Loss: 0.000310\n",
            "Iteration: 15000, Loss: 0.000247\n",
            "Iteration: 16000, Loss: 0.000198\n",
            "Iteration: 17000, Loss: 0.000160\n",
            "Iteration: 18000, Loss: 0.000130\n",
            "Iteration: 19000, Loss: 0.000107\n",
            "\n"
          ],
          "name": "stdout"
        },
        {
          "output_type": "display_data",
          "data": {
            "image/png": "[encoded data removed]",
            "text/plain": [
              "<Figure size 432x288 with 1 Axes>"
            ]
          },
          "metadata": {
            "tags": [],
            "needs_background": "light"
          }
        },
        {
          "output_type": "stream",
          "text": [
            "parameters \n",
            " {'Wax': array([[ 1.34900226],\n",
            "       [-0.73685611],\n",
            "       [-0.4994763 ]]), 'Waa': array([[-0.21765679,  0.28730629, -0.0732076 ],\n",
            "       [-0.07539149,  0.1020431 ,  0.05685462],\n",
            "       [ 0.55213335, -0.19226929,  0.46312225]]), 'Wya': array([[0.86601963, 0.02575513, 0.94937045]]), 'b': array([[-0.30366034],\n",
            "       [ 0.07215076],\n",
            "       [ 0.48521089]]), 'by': array([[-0.22898916]])} \n",
            "\n",
            "final gradients \n",
            " {'dWaa': array([[ 2.40279097e-05, -1.63424969e-05, -3.74645604e-05],\n",
            "       [-2.22193379e-04, -1.04199754e-04,  1.11919808e-05],\n",
            "       [-4.52189003e-04,  1.78634284e-04, -4.38768097e-04]]), 'dWax': array([[ 6.44317945e-05],\n",
            "       [-1.40408501e-04],\n",
            "       [ 1.63109887e-04]]), 'dWya': array([[ 1.26481732e-04, -1.96021131e-05,  5.73347769e-06]]), 'db': array([[-1.81034597e-04],\n",
            "       [-3.07667876e-04],\n",
            "       [ 2.00723805e-05]]), 'dby': array([[0.00037942]])} \n",
            "\n"
          ],
          "name": "stdout"
        }
      ]
    },
    {
      "cell_type": "code",
      "metadata": {
        "id": "oYb2Qr070yDp",
        "colab_type": "code",
        "outputId": "a10d7325-b01a-4305-f618-d17be22d5da8",
        "colab": {
          "base_uri": "https://localhost:8080/",
          "height": 1000
        }
      },
      "source": [
        "parameters = model(X, Y, num_iterations=20000, n_a=5, learning_rate=0.01, print_chart=True)"
      ],
      "execution_count": 0,
      "outputs": [
        {
          "output_type": "stream",
          "text": [
            "Iteration: 0, Loss: 14.711017\n",
            "Iteration: 1000, Loss: 0.109919\n",
            "Iteration: 2000, Loss: 0.026315\n",
            "Iteration: 3000, Loss: 0.008316\n",
            "Iteration: 4000, Loss: 0.004150\n",
            "Iteration: 5000, Loss: 0.003061\n",
            "Iteration: 6000, Loss: 0.002544\n",
            "Iteration: 7000, Loss: 0.002255\n",
            "Iteration: 8000, Loss: 0.001981\n",
            "Iteration: 9000, Loss: 0.001961\n",
            "Iteration: 10000, Loss: 0.004137\n",
            "Iteration: 11000, Loss: 0.002677\n",
            "Iteration: 12000, Loss: 0.002578\n",
            "Iteration: 13000, Loss: 0.002333\n",
            "Iteration: 14000, Loss: 0.002058\n",
            "Iteration: 15000, Loss: 0.001870\n",
            "Iteration: 16000, Loss: 0.001792\n",
            "Iteration: 17000, Loss: 0.001729\n",
            "Iteration: 18000, Loss: 0.001560\n",
            "Iteration: 19000, Loss: 0.001405\n",
            "\n"
          ],
          "name": "stdout"
        },
        {
          "output_type": "display_data",
          "data": {
            "image/png": "[encoded data removed]",
            "text/plain": [
              "<Figure size 432x288 with 1 Axes>"
            ]
          },
          "metadata": {
            "tags": [],
            "needs_background": "light"
          }
        },
        {
          "output_type": "stream",
          "text": [
            "parameters \n",
            " {'Wax': array([[-0.17454054],\n",
            "       [ 0.0927642 ],\n",
            "       [-0.44468594],\n",
            "       [-1.23478744],\n",
            "       [-0.21025144]]), 'Waa': array([[ 0.04409161,  0.01661015,  0.11811653,  0.01918145,  0.12175007],\n",
            "       [ 0.00788561, -0.04766717, -0.14583815, -0.0353004 , -0.04508955],\n",
            "       [ 0.04610394, -0.01213417,  0.27898948, -0.64756391,  0.13394461],\n",
            "       [-0.01548638, -0.05562032,  0.14312726, -0.3286391 , -0.05607384],\n",
            "       [ 0.12827181, -0.05774572,  0.04993925, -0.06394231,  0.17399315]]), 'Wya': array([[ 0.3144561 , -0.15239749,  0.86008963, -1.02160919,  0.3852175 ]]), 'b': array([[0.00457372],\n",
            "       [0.04746183],\n",
            "       [0.52861255],\n",
            "       [0.45636914],\n",
            "       [0.12039091]]), 'by': array([[0.01697556]])} \n",
            "\n",
            "final gradients \n",
            " {'dWaa': array([[ 0.01234787, -0.00792215, -0.02134841,  0.03511974,  0.00899256],\n",
            "       [-0.00489345,  0.00307992,  0.00707829, -0.01358847, -0.00382842],\n",
            "       [ 0.03315268, -0.02093335, -0.04760496,  0.09245148,  0.02585993],\n",
            "       [-0.01117015,  0.0076552 ,  0.03320498, -0.03307339, -0.00573411],\n",
            "       [ 0.01916777, -0.01231554, -0.0336044 ,  0.05496186,  0.01386259]]), 'dWax': array([[-0.08249929],\n",
            "       [ 0.0313802 ],\n",
            "       [-0.21304675],\n",
            "       [ 0.08629885],\n",
            "       [-0.12861426]]), 'dWya': array([[ 0.03305952, -0.02075483, -0.04334653,  0.09079062,  0.02644382]]), 'db': array([[-0.05998487],\n",
            "       [ 0.02050747],\n",
            "       [-0.13917154],\n",
            "       [ 0.08307431],\n",
            "       [-0.09430771]]), 'dby': array([[-0.13503533]])} \n",
            "\n"
          ],
          "name": "stdout"
        }
      ]
    },
    {
      "cell_type": "code",
      "metadata": {
        "id": "H4GOiGm1MJY2",
        "colab_type": "code",
        "outputId": "2aa1c547-0542-4b83-d6ca-e57aad080de9",
        "colab": {
          "base_uri": "https://localhost:8080/",
          "height": 1000
        }
      },
      "source": [
        "parameters = model(X, Y, num_iterations=20000, n_a=10, learning_rate=0.01, print_chart=True)"
      ],
      "execution_count": 0,
      "outputs": [
        {
          "output_type": "stream",
          "text": [
            "Iteration: 0, Loss: 14.696445\n",
            "Iteration: 1000, Loss: 0.086430\n",
            "Iteration: 2000, Loss: 0.019726\n",
            "Iteration: 3000, Loss: 0.006608\n",
            "Iteration: 4000, Loss: 0.003320\n",
            "Iteration: 5000, Loss: 0.002745\n",
            "Iteration: 6000, Loss: 0.002329\n",
            "Iteration: 7000, Loss: 0.001998\n",
            "Iteration: 8000, Loss: 0.021521\n",
            "Iteration: 9000, Loss: 0.001552\n",
            "Iteration: 10000, Loss: 0.001451\n",
            "Iteration: 11000, Loss: 0.001542\n",
            "Iteration: 12000, Loss: 0.001876\n",
            "Iteration: 13000, Loss: 0.002222\n",
            "Iteration: 14000, Loss: 0.002249\n",
            "Iteration: 15000, Loss: 0.002084\n",
            "Iteration: 16000, Loss: 0.001901\n",
            "Iteration: 17000, Loss: 0.001767\n",
            "Iteration: 18000, Loss: 0.001701\n",
            "Iteration: 19000, Loss: 0.001673\n",
            "\n"
          ],
          "name": "stdout"
        },
        {
          "output_type": "display_data",
          "data": {
            "image/png": "[encoded data removed]",
            "text/plain": [
              "<Figure size 432x288 with 1 Axes>"
            ]
          },
          "metadata": {
            "tags": [],
            "needs_background": "light"
          }
        },
        {
          "output_type": "stream",
          "text": [
            "parameters \n",
            " {'Wax': array([[ 0.15749538],\n",
            "       [ 0.08333831],\n",
            "       [-0.16147232],\n",
            "       [-0.36304332],\n",
            "       [-0.21500392],\n",
            "       [-1.2106346 ],\n",
            "       [-0.18131863],\n",
            "       [-0.37101972],\n",
            "       [-0.2373126 ],\n",
            "       [ 0.03375382]]), 'Waa': array([[ 4.67442515e-02,  5.89357999e-03, -3.78982333e-02,\n",
            "        -2.84659280e-02, -2.38380687e-02,  6.88090100e-02,\n",
            "        -4.18804141e-02, -4.81021885e-02, -2.66939910e-02,\n",
            "         9.08562320e-03],\n",
            "       [ 1.65782410e-02,  3.44798057e-02, -1.67502086e-02,\n",
            "        -2.91151567e-04, -4.85262077e-03,  1.16739309e-02,\n",
            "        -1.81532924e-02, -8.03326926e-02, -4.01298320e-03,\n",
            "         7.91322359e-03],\n",
            "       [-4.07717770e-02, -2.67374708e-02,  2.45065159e-02,\n",
            "         4.05868826e-02,  2.24503425e-02, -5.80672133e-02,\n",
            "         1.60395382e-02,  6.83906906e-02,  3.76408707e-02,\n",
            "         1.70048190e-03],\n",
            "       [-3.69427671e-02, -2.33464121e-02,  2.87067761e-02,\n",
            "         1.91209438e-01,  7.97606481e-02, -4.78561613e-01,\n",
            "         7.81185869e-02, -1.48767990e-01,  9.83537362e-02,\n",
            "        -5.01635588e-04],\n",
            "       [-4.20872416e-02, -1.89873939e-02,  1.82110094e-02,\n",
            "         1.52275325e-01,  2.85925012e-02, -1.74622278e-01,\n",
            "         1.95051901e-02,  7.65828907e-02,  3.06898133e-02,\n",
            "        -4.03337265e-03],\n",
            "       [-2.87501052e-03,  4.62694312e-02, -1.03103235e-02,\n",
            "         1.65267752e-01,  3.53239415e-02, -2.69740714e-01,\n",
            "         2.12252630e-02, -1.89403396e-01,  9.73142184e-02,\n",
            "        -9.05575256e-03],\n",
            "       [-6.19786245e-02, -2.26582951e-02,  3.28769393e-02,\n",
            "         1.55092768e-01,  3.14769695e-02, -1.36510665e-01,\n",
            "         4.64651765e-03,  1.15396274e-01,  2.49202837e-02,\n",
            "        -5.54170362e-03],\n",
            "       [-2.49017645e-02, -4.73701173e-02,  3.60837609e-02,\n",
            "        -1.33501664e-01,  4.18635200e-03,  5.37701157e-02,\n",
            "         2.51750964e-02,  7.18222963e-02, -2.81981646e-02,\n",
            "         1.91973753e-02],\n",
            "       [-3.27224634e-02, -3.96981328e-03,  2.14143532e-02,\n",
            "         2.10351688e-01,  4.19364905e-02, -2.20617409e-01,\n",
            "         4.85670871e-03,  4.17977657e-02,  3.83043207e-02,\n",
            "        -8.97891389e-03],\n",
            "       [-6.66940848e-03,  1.07278595e-02,  4.03924318e-03,\n",
            "         2.27903207e-03, -1.66261314e-02,  1.64134700e-02,\n",
            "         1.24495463e-03,  7.35730883e-03, -1.11723893e-02,\n",
            "         3.68245853e-04]]), 'Wya': array([[-0.19611272, -0.10108974,  0.22824261,  0.52904998,  0.40435354,\n",
            "        -1.16843125,  0.36014483,  0.11021215,  0.45914042, -0.03130842]]), 'b': array([[-0.0741126 ],\n",
            "       [-0.01908054],\n",
            "       [ 0.04429893],\n",
            "       [ 0.33301974],\n",
            "       [ 0.1030298 ],\n",
            "       [ 0.46523779],\n",
            "       [ 0.0553563 ],\n",
            "       [ 0.11076063],\n",
            "       [ 0.12819845],\n",
            "       [-0.00271816]]), 'by': array([[0.25360263]])} \n",
            "\n",
            "final gradients \n",
            " {'dWaa': array([[-5.98021130e-03, -5.90358520e-03,  7.88345358e-03,\n",
            "        -8.06879218e-03,  4.69549723e-03,  2.69371069e-02,\n",
            "         6.60512042e-03,  1.95502120e-02,  2.48554870e-03,\n",
            "        -1.46960134e-03],\n",
            "       [-3.41978249e-03, -3.47885258e-03,  4.58817534e-03,\n",
            "        -5.31158071e-03,  2.56736179e-03,  1.55720033e-02,\n",
            "         3.76893387e-03,  1.15515714e-02,  1.18539098e-03,\n",
            "        -8.67353289e-04],\n",
            "       [ 5.80309190e-03,  5.74969637e-03, -7.67234608e-03,\n",
            "         7.98389300e-03, -4.54413488e-03, -2.61407961e-02,\n",
            "        -6.42611322e-03, -1.90216159e-02, -2.38178046e-03,\n",
            "         1.43244218e-03],\n",
            "       [ 1.68200807e-02,  1.59767386e-02, -2.16725600e-02,\n",
            "         1.82524255e-02, -1.39318833e-02, -7.40279741e-02,\n",
            "        -1.86156938e-02, -5.26050327e-02, -8.42866584e-03,\n",
            "         3.98082049e-03],\n",
            "       [ 9.88826704e-03,  9.61404216e-03, -1.29303518e-02,\n",
            "         1.23473964e-02, -7.95396965e-03, -4.41988228e-02,\n",
            "        -1.09640846e-02, -3.17429450e-02, -4.47943714e-03,\n",
            "         2.39412807e-03],\n",
            "       [-7.78505371e-03, -9.26069605e-03,  1.16913558e-02,\n",
            "        -2.20359778e-02,  4.50432081e-03,  4.19225607e-02,\n",
            "         8.75669826e-03,  3.18322011e-02, -8.86046220e-05,\n",
            "        -2.40090966e-03],\n",
            "       [ 8.46235106e-03,  8.27432757e-03, -1.11034916e-02,\n",
            "         1.09016827e-02, -6.75627677e-03, -3.78804196e-02,\n",
            "        -9.38742898e-03, -2.73167161e-02, -3.73226435e-03,\n",
            "         2.05820138e-03],\n",
            "       [ 2.91582767e-03,  3.38618454e-03, -4.25649873e-03,\n",
            "         7.38174194e-03, -1.73190701e-03, -1.42172476e-02,\n",
            "        -3.20194811e-03, -1.14185826e-02, -7.70661157e-05,\n",
            "         8.65639236e-04],\n",
            "       [ 1.09273800e-02,  1.04664425e-02, -1.41638592e-02,\n",
            "         1.25575508e-02, -8.97276981e-03, -4.83956159e-02,\n",
            "        -1.21339429e-02, -3.44599026e-02, -5.31612686e-03,\n",
            "         2.60173622e-03],\n",
            "       [-7.66799310e-04, -7.16479346e-04,  9.80259119e-04,\n",
            "        -7.51953652e-04,  6.51178189e-04,  3.36075833e-03,\n",
            "         8.52666819e-04,  2.35442322e-03,  4.15003824e-04,\n",
            "        -1.79292058e-04]]), 'dWax': array([[-0.06438826],\n",
            "       [-0.03800964],\n",
            "       [ 0.06281061],\n",
            "       [ 0.17449303],\n",
            "       [ 0.10504232],\n",
            "       [-0.11007571],\n",
            "       [ 0.09038025],\n",
            "       [ 0.03745883],\n",
            "       [ 0.11414464],\n",
            "       [-0.00780991]]), 'dWya': array([[ 0.02249693,  0.02107484, -0.02878896,  0.02210527, -0.01900109,\n",
            "        -0.09585753, -0.02499618, -0.06870922, -0.01200885,  0.00530216]]), 'db': array([[-0.0456183 ],\n",
            "       [-0.02864505],\n",
            "       [ 0.04491079],\n",
            "       [ 0.11317744],\n",
            "       [ 0.07202307],\n",
            "       [-0.1025438 ],\n",
            "       [ 0.06272209],\n",
            "       [ 0.03558508],\n",
            "       [ 0.07560278],\n",
            "       [-0.00491446]]), 'dby': array([[0.14714058]])} \n",
            "\n"
          ],
          "name": "stdout"
        }
      ]
    },
    {
      "cell_type": "markdown",
      "metadata": {
        "id": "gHpkfJJQciKf",
        "colab_type": "text"
      },
      "source": [
        "### 2. Models with with m > 1"
      ]
    },
    {
      "cell_type": "code",
      "metadata": {
        "id": "wrse5Gj09Tcq",
        "colab_type": "code",
        "outputId": "f068bae9-05a9-400c-a029-74825b1179ef",
        "colab": {
          "base_uri": "https://localhost:8080/",
          "height": 34
        }
      },
      "source": [
        "T_x = 25\n",
        "m = 100\n",
        "\n",
        "X = np.zeros((T_x, m))\n",
        "\n",
        "for col in range(X.shape[1]):\n",
        "  r = np.random.randint(1, 20)\n",
        "  #r = 1\n",
        "  X[:, col] = [x for x in range(r, r + T_x)]\n",
        "\n",
        "# X = X/X.max()\n",
        "\n",
        "Y = np.sin(X)\n",
        "\n",
        "X.shape"
      ],
      "execution_count": 0,
      "outputs": [
        {
          "output_type": "execute_result",
          "data": {
            "text/plain": [
              "(25, 100)"
            ]
          },
          "metadata": {
            "tags": []
          },
          "execution_count": 28
        }
      ]
    },
    {
      "cell_type": "code",
      "metadata": {
        "id": "tO5gIzo31hAw",
        "colab_type": "code",
        "outputId": "8ad9fdae-49c9-4dfa-ea10-0d8f1c2e6e77",
        "colab": {
          "base_uri": "https://localhost:8080/",
          "height": 50
        }
      },
      "source": [
        "X[:, 0]"
      ],
      "execution_count": 0,
      "outputs": [
        {
          "output_type": "execute_result",
          "data": {
            "text/plain": [
              "array([ 2.,  3.,  4.,  5.,  6.,  7.,  8.,  9., 10., 11., 12., 13., 14.,\n",
              "       15., 16., 17., 18., 19., 20., 21., 22., 23., 24., 25., 26.])"
            ]
          },
          "metadata": {
            "tags": []
          },
          "execution_count": 29
        }
      ]
    },
    {
      "cell_type": "code",
      "metadata": {
        "id": "R8-ktVx0jPBG",
        "colab_type": "code",
        "outputId": "3191fac1-2d01-4491-a544-e5f3824bd87f",
        "colab": {
          "base_uri": "https://localhost:8080/",
          "height": 101
        }
      },
      "source": [
        "Y[:, 0]"
      ],
      "execution_count": 0,
      "outputs": [
        {
          "output_type": "execute_result",
          "data": {
            "text/plain": [
              "array([1.79175947, 1.94591015, 2.07944154, 2.19722458, 2.30258509,\n",
              "       2.39789527, 2.48490665, 2.56494936, 2.63905733, 2.7080502 ,\n",
              "       2.77258872, 2.83321334, 2.89037176, 2.94443898, 2.99573227,\n",
              "       3.04452244, 3.09104245, 3.13549422, 3.17805383, 3.21887582,\n",
              "       3.25809654, 3.29583687, 3.33220451, 3.36729583, 3.40119738])"
            ]
          },
          "metadata": {
            "tags": []
          },
          "execution_count": 25
        }
      ]
    },
    {
      "cell_type": "markdown",
      "metadata": {
        "id": "zgfW6oS0BVoW",
        "colab_type": "text"
      },
      "source": [
        "<font color='Red'> **IS IT CALCULATING THE LOSS CORRECTLY? h hat(t) - y(t)??? Are the gradients updating correctly?** </font>"
      ]
    },
    {
      "cell_type": "code",
      "metadata": {
        "id": "2K2ecZxx7Cc6",
        "colab_type": "code",
        "outputId": "07fddf76-1343-489d-9038-581bc19f4ebf",
        "colab": {
          "base_uri": "https://localhost:8080/",
          "height": 768
        }
      },
      "source": [
        "parameters = model(X, Y, num_iterations=100000, n_a=3, learning_rate=0.00001, print_chart=True, grad_max=5, print_grad_updates=False, update_n=10000)"
      ],
      "execution_count": 0,
      "outputs": [
        {
          "output_type": "stream",
          "text": [
            "Iteration: 0, Loss: 1249.988580\n",
            "Iteration: 10000, Loss: 1249.785765\n",
            "Iteration: 20000, Loss: 1249.802384\n",
            "Iteration: 30000, Loss: 1249.791126\n",
            "Iteration: 40000, Loss: 1249.773060\n",
            "Iteration: 50000, Loss: 1249.729201\n",
            "Iteration: 60000, Loss: 1249.772406\n",
            "Iteration: 70000, Loss: 1249.801804\n",
            "Iteration: 80000, Loss: 1249.757708\n",
            "Iteration: 90000, Loss: 1249.710356\n",
            "\n"
          ],
          "name": "stdout"
        },
        {
          "output_type": "display_data",
          "data": {
            "image/png": "[encoded data removed]",
            "text/plain": [
              "<Figure size 432x288 with 1 Axes>"
            ]
          },
          "metadata": {
            "tags": [],
            "needs_background": "light"
          }
        },
        {
          "output_type": "stream",
          "text": [
            "parameters \n",
            " {'Wax': array([[ 0.01065172],\n",
            "       [-0.03663941],\n",
            "       [-0.02245572]]), 'Waa': array([[-0.32389181,  0.02251349,  0.65270636],\n",
            "       [-0.00195547, -0.33590098, -0.12094758],\n",
            "       [-0.28589488,  0.07583795, -0.65106074]]), 'Wya': array([[-0.00916411, -0.00264344,  0.07332747]]), 'b': array([[ 1.00164296],\n",
            "       [-0.17455966],\n",
            "       [ 0.38361933]]), 'by': array([[0.01948563]])} \n",
            "\n",
            "final gradients \n",
            " {'dWaa': array([[ 1.16921006, -4.64447869, -2.84781553],\n",
            "       [-0.24514327,  0.78745871,  0.55176049],\n",
            "       [-1.77299735,  1.8374505 , -2.76957529]]), 'dWax': array([[-0.86013677],\n",
            "       [-2.34375831],\n",
            "       [ 5.        ]]), 'dWya': array([[ 0.47125358, -0.34109371,  0.12850572]]), 'db': array([[ 2.44593227],\n",
            "       [-0.3141679 ],\n",
            "       [-5.        ]]), 'dby': array([[0.00184275]])} \n",
            "\n"
          ],
          "name": "stdout"
        }
      ]
    },
    {
      "cell_type": "code",
      "metadata": {
        "id": "GgSuiZxHqQNJ",
        "colab_type": "code",
        "outputId": "88821c6e-1e80-443b-9b19-8e9cb12a53b6",
        "colab": {
          "base_uri": "https://localhost:8080/",
          "height": 229
        }
      },
      "source": [
        " \n",
        "\n",
        "da = np.array([[-0.00415789,  0.00181396], [-0.00415789,  0.00181396]])\n",
        "a =  np.array([[ 0.04700742], [-0.0169694 ]])\n",
        "daraw_og = np.array([[-0.0041487,   0.00180995], [-0.00415669,  0.00181343]])\n",
        "\n",
        "daraw_check\n",
        "\n",
        "print(da)\n",
        "print(a)\n",
        "print(daraw_og)\n",
        "\n"
      ],
      "execution_count": 0,
      "outputs": [
        {
          "output_type": "error",
          "ename": "NameError",
          "evalue": "ignored",
          "traceback": [
            "\u001b[0;31m---------------------------------------------------------------------------\u001b[0m",
            "\u001b[0;31mNameError\u001b[0m                                 Traceback (most recent call last)",
            "\u001b[0;32m<ipython-input-70-e270abfefb85>\u001b[0m in \u001b[0;36m<module>\u001b[0;34m()\u001b[0m\n\u001b[1;32m      5\u001b[0m \u001b[0mdaraw_og\u001b[0m \u001b[0;34m=\u001b[0m \u001b[0mnp\u001b[0m\u001b[0;34m.\u001b[0m\u001b[0marray\u001b[0m\u001b[0;34m(\u001b[0m\u001b[0;34m[\u001b[0m\u001b[0;34m[\u001b[0m\u001b[0;34m-\u001b[0m\u001b[0;36m0.0041487\u001b[0m\u001b[0;34m,\u001b[0m   \u001b[0;36m0.00180995\u001b[0m\u001b[0;34m]\u001b[0m\u001b[0;34m,\u001b[0m \u001b[0;34m[\u001b[0m\u001b[0;34m-\u001b[0m\u001b[0;36m0.00415669\u001b[0m\u001b[0;34m,\u001b[0m  \u001b[0;36m0.00181343\u001b[0m\u001b[0;34m]\u001b[0m\u001b[0;34m]\u001b[0m\u001b[0;34m)\u001b[0m\u001b[0;34m\u001b[0m\u001b[0;34m\u001b[0m\u001b[0m\n\u001b[1;32m      6\u001b[0m \u001b[0;34m\u001b[0m\u001b[0m\n\u001b[0;32m----> 7\u001b[0;31m \u001b[0mdaraw_check\u001b[0m\u001b[0;34m\u001b[0m\u001b[0;34m\u001b[0m\u001b[0m\n\u001b[0m\u001b[1;32m      8\u001b[0m \u001b[0;34m\u001b[0m\u001b[0m\n\u001b[1;32m      9\u001b[0m \u001b[0mprint\u001b[0m\u001b[0;34m(\u001b[0m\u001b[0mda\u001b[0m\u001b[0;34m)\u001b[0m\u001b[0;34m\u001b[0m\u001b[0;34m\u001b[0m\u001b[0m\n",
            "\u001b[0;31mNameError\u001b[0m: name 'daraw_check' is not defined"
          ]
        }
      ]
    },
    {
      "cell_type": "code",
      "metadata": {
        "id": "E5jwbxeIqkIO",
        "colab_type": "code",
        "outputId": "ffa9df0f-5869-4e6e-ad0d-b5d58058508b",
        "colab": {
          "base_uri": "https://localhost:8080/",
          "height": 50
        }
      },
      "source": [
        "np.dot(da, (1 - a * a))"
      ],
      "execution_count": 0,
      "outputs": [
        {
          "output_type": "execute_result",
          "data": {
            "text/plain": [
              "array([[-0.00233526],\n",
              "       [-0.00233526]])"
            ]
          },
          "metadata": {
            "tags": []
          },
          "execution_count": 32
        }
      ]
    },
    {
      "cell_type": "code",
      "metadata": {
        "id": "jecbTZ-mrLzs",
        "colab_type": "code",
        "outputId": "fd992e16-322e-4094-f1b4-3bc5e2ea9f67",
        "colab": {
          "base_uri": "https://localhost:8080/",
          "height": 50
        }
      },
      "source": [
        "da * (1 - a * a)"
      ],
      "execution_count": 0,
      "outputs": [
        {
          "output_type": "execute_result",
          "data": {
            "text/plain": [
              "array([[-0.0041487 ,  0.00180995],\n",
              "       [-0.00415669,  0.00181344]])"
            ]
          },
          "metadata": {
            "tags": []
          },
          "execution_count": 33
        }
      ]
    },
    {
      "cell_type": "code",
      "metadata": {
        "id": "1naE0k38slHE",
        "colab_type": "code",
        "colab": {}
      },
      "source": [
        "m# STILL NEED TO UNDERSTAND THIS BIT\n",
        "dy = np.copy(y_hat[t])\n",
        "dy[Y[t]] -= 1"
      ],
      "execution_count": 0,
      "outputs": []
    },
    {
      "cell_type": "code",
      "metadata": {
        "id": "dsmloRaFW5H0",
        "colab_type": "code",
        "colab": {}
      },
      "source": [
        "dy = 10"
      ],
      "execution_count": 0,
      "outputs": []
    },
    {
      "cell_type": "code",
      "metadata": {
        "id": "fXxiswH5W6bw",
        "colab_type": "code",
        "colab": {}
      },
      "source": [
        "y = [3"
      ],
      "execution_count": 0,
      "outputs": []
    },
    {
      "cell_type": "code",
      "metadata": {
        "id": "_h0Ub1eqW90J",
        "colab_type": "code",
        "colab": {}
      },
      "source": [
        "Y = []\n",
        "Y.append(3)\n",
        "Y.append(4)"
      ],
      "execution_count": 0,
      "outputs": []
    },
    {
      "cell_type": "code",
      "metadata": {
        "id": "KO2aUadQXEpB",
        "colab_type": "code",
        "outputId": "99b86dd4-6644-4fec-b348-b72a344d4134",
        "colab": {
          "base_uri": "https://localhost:8080/",
          "height": 34
        }
      },
      "source": [
        "Y"
      ],
      "execution_count": 0,
      "outputs": [
        {
          "output_type": "execute_result",
          "data": {
            "text/plain": [
              "[3, 4]"
            ]
          },
          "metadata": {
            "tags": []
          },
          "execution_count": 123
        }
      ]
    },
    {
      "cell_type": "code",
      "metadata": {
        "id": "md5D2aScXJTh",
        "colab_type": "code",
        "outputId": "2fbdae45-cac6-41da-dd6d-45ebf0169cb6",
        "colab": {
          "base_uri": "https://localhost:8080/",
          "height": 162
        }
      },
      "source": [
        "y[Y[0]]"
      ],
      "execution_count": 0,
      "outputs": [
        {
          "output_type": "error",
          "ename": "TypeError",
          "evalue": "ignored",
          "traceback": [
            "\u001b[0;31m---------------------------------------------------------------------------\u001b[0m",
            "\u001b[0;31mTypeError\u001b[0m                                 Traceback (most recent call last)",
            "\u001b[0;32m<ipython-input-124-eb51b146a547>\u001b[0m in \u001b[0;36m<module>\u001b[0;34m()\u001b[0m\n\u001b[0;32m----> 1\u001b[0;31m \u001b[0my\u001b[0m\u001b[0;34m[\u001b[0m\u001b[0mY\u001b[0m\u001b[0;34m[\u001b[0m\u001b[0;36m0\u001b[0m\u001b[0;34m]\u001b[0m\u001b[0;34m]\u001b[0m\u001b[0;34m\u001b[0m\u001b[0;34m\u001b[0m\u001b[0m\n\u001b[0m",
            "\u001b[0;31mTypeError\u001b[0m: 'int' object is not subscriptable"
          ]
        }
      ]
    },
    {
      "cell_type": "code",
      "metadata": {
        "id": "gbR0L8-UXYCA",
        "colab_type": "code",
        "colab": {}
      },
      "source": [
        "    x, a, y_hat = {}, {}, {}\n",
        "\n",
        "    a0 = 100\n",
        "    \n",
        "    a[-1] = np.copy(a0)"
      ],
      "execution_count": 0,
      "outputs": []
    },
    {
      "cell_type": "code",
      "metadata": {
        "id": "f9xlVyDz99-Y",
        "colab_type": "code",
        "outputId": "9e58c6e4-103e-4686-89c8-53d3d4cca929",
        "colab": {
          "base_uri": "https://localhost:8080/",
          "height": 34
        }
      },
      "source": [
        "a"
      ],
      "execution_count": 0,
      "outputs": [
        {
          "output_type": "execute_result",
          "data": {
            "text/plain": [
              "{-1: array(100)}"
            ]
          },
          "metadata": {
            "tags": []
          },
          "execution_count": 86
        }
      ]
    },
    {
      "cell_type": "code",
      "metadata": {
        "id": "Mxg_RykE9-0b",
        "colab_type": "code",
        "colab": {}
      },
      "source": [
        ""
      ],
      "execution_count": 0,
      "outputs": []
    }
  ]
}